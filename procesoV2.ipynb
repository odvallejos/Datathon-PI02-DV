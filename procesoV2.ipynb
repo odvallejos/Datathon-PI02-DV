{
  "cells": [
    {
      "cell_type": "markdown",
      "metadata": {
        "id": "n957zB3NsaKg"
      },
      "source": [
        "# **Datathon - Proyecto Individual 2**\n",
        "## Daniel Vallejos"
      ]
    },
    {
      "cell_type": "markdown",
      "metadata": {
        "id": "jgt6whXwsqvK"
      },
      "source": [
        "# **Estancia hospitalaria**\n",
        "Un importante Centro de Salud lo ha contratado con el fin de poder predecir si un paciente tendrá una estancia hospitalaria prolongada o no, utilizando la información contenida en el dataset asociado, la cual recaba una muestra histórica de sus pacientes, para poder administrar la demanda de camas en el hospital según la condición de los pacientes recientemente ingresados.\n",
        "\n",
        "Para esto, se define que un paciente posee estancia hospitalaria prolongada si ha estado hospitalizado más de 8 días. Por lo que debe generar dicha variable categórica y luego categorizar los pacientes según las variables que usted considere necesarias, justificando dicha elección.​"
      ]
    },
    {
      "cell_type": "markdown",
      "metadata": {
        "id": "r_qKWmEgt3sd"
      },
      "source": [
        "# **EDA - Análisis Exploratorio de los Datos**"
      ]
    },
    {
      "cell_type": "code",
      "execution_count": 2,
      "metadata": {
        "id": "LHVLh9fFdvey"
      },
      "outputs": [],
      "source": [
        "import pandas as pd\n",
        "import matplotlib.pyplot as plt\n",
        "import seaborn as sns\n",
        "\n",
        "from sklearn.preprocessing import OneHotEncoder, MinMaxScaler\n",
        "from sklearn.preprocessing import StandardScaler\n",
        "\n",
        "from sklearn.base import BaseEstimator, TransformerMixin\n",
        "\n",
        "from sklearn.pipeline import Pipeline, FeatureUnion, make_pipeline\n",
        "\n",
        "from sklearn.compose import ColumnTransformer, make_column_selector\n",
        "\n",
        "from sklearn.impute import SimpleImputer\n",
        "\n",
        "from sklearn.linear_model import LogisticRegression\n",
        "\n",
        "from sklearn import tree\n",
        "from sklearn.tree import DecisionTreeClassifier\n",
        "\n",
        "from sklearn.ensemble import RandomForestClassifier, GradientBoostingClassifier, VotingClassifier\n",
        "\n",
        "from xgboost import XGBClassifier\n",
        "\n",
        "from sklearn.svm import SVC\n",
        "\n",
        "from sklearn.model_selection import train_test_split, RandomizedSearchCV, RepeatedStratifiedKFold, cross_validate\n",
        "\n",
        "from sklearn.metrics import accuracy_score, precision_score, recall_score, f1_score, roc_auc_score\n",
        "from sklearn.metrics import classification_report, confusion_matrix\n",
        "\n",
        "from sklearn.inspection import permutation_importance\n",
        "\n",
        "from sklearn.feature_selection import f_regression\n",
        "\n",
        "from scipy.stats import loguniform\n",
        "\n",
        "from sklearn import set_config\n",
        "\n",
        "#from feature_engine.selection import DropFeatures, DropConstantFeatures, DropDuplicateFeatures"
      ]
    },
    {
      "cell_type": "code",
      "execution_count": 3,
      "metadata": {
        "id": "nJQhq_5FeM5d"
      },
      "outputs": [],
      "source": [
        "df_hos = pd.read_csv(\"./datasets/hospitalizaciones_train.csv\")"
      ]
    },
    {
      "cell_type": "code",
      "execution_count": 4,
      "metadata": {
        "colab": {
          "base_uri": "https://localhost:8080/"
        },
        "id": "All-Br8hu70y",
        "outputId": "d89a4240-0a5b-4765-fe4e-722e49488580"
      },
      "outputs": [
        {
          "data": {
            "text/plain": [
              "(410000, 15)"
            ]
          },
          "execution_count": 4,
          "metadata": {},
          "output_type": "execute_result"
        }
      ],
      "source": [
        "#Cantidad de registros y columnas\n",
        "df_hos.shape"
      ]
    },
    {
      "cell_type": "code",
      "execution_count": 5,
      "metadata": {
        "colab": {
          "base_uri": "https://localhost:8080/"
        },
        "id": "KGpRcwdLvGJa",
        "outputId": "bb3441f3-dac1-4d18-84fd-38ba658d3559"
      },
      "outputs": [
        {
          "name": "stdout",
          "output_type": "stream",
          "text": [
            "<class 'pandas.core.frame.DataFrame'>\n",
            "RangeIndex: 410000 entries, 0 to 409999\n",
            "Data columns (total 15 columns):\n",
            " #   Column                             Non-Null Count   Dtype  \n",
            "---  ------                             --------------   -----  \n",
            " 0   Available Extra Rooms in Hospital  410000 non-null  int64  \n",
            " 1   Department                         410000 non-null  object \n",
            " 2   Ward_Facility_Code                 410000 non-null  object \n",
            " 3   doctor_name                        410000 non-null  object \n",
            " 4   staff_available                    410000 non-null  int64  \n",
            " 5   patientid                          410000 non-null  int64  \n",
            " 6   Age                                410000 non-null  object \n",
            " 7   gender                             410000 non-null  object \n",
            " 8   Type of Admission                  410000 non-null  object \n",
            " 9   Severity of Illness                410000 non-null  object \n",
            " 10  health_conditions                  410000 non-null  object \n",
            " 11  Visitors with Patient              410000 non-null  int64  \n",
            " 12  Insurance                          410000 non-null  object \n",
            " 13  Admission_Deposit                  410000 non-null  float64\n",
            " 14  Stay (in days)                     410000 non-null  int64  \n",
            "dtypes: float64(1), int64(5), object(9)\n",
            "memory usage: 46.9+ MB\n"
          ]
        }
      ],
      "source": [
        "#Estructura del Dataframe\n",
        "df_hos.info()"
      ]
    },
    {
      "cell_type": "code",
      "execution_count": 6,
      "metadata": {
        "colab": {
          "base_uri": "https://localhost:8080/",
          "height": 372
        },
        "id": "tKhBAWpEvS7f",
        "outputId": "57161320-ad62-47bc-e712-d4d896336876"
      },
      "outputs": [
        {
          "data": {
            "text/html": [
              "\n",
              "  <div id=\"df-dac76b53-feb1-43bb-9c98-2f164bd556f2\">\n",
              "    <div class=\"colab-df-container\">\n",
              "      <div>\n",
              "<style scoped>\n",
              "    .dataframe tbody tr th:only-of-type {\n",
              "        vertical-align: middle;\n",
              "    }\n",
              "\n",
              "    .dataframe tbody tr th {\n",
              "        vertical-align: top;\n",
              "    }\n",
              "\n",
              "    .dataframe thead th {\n",
              "        text-align: right;\n",
              "    }\n",
              "</style>\n",
              "<table border=\"1\" class=\"dataframe\">\n",
              "  <thead>\n",
              "    <tr style=\"text-align: right;\">\n",
              "      <th></th>\n",
              "      <th>Available Extra Rooms in Hospital</th>\n",
              "      <th>Department</th>\n",
              "      <th>Ward_Facility_Code</th>\n",
              "      <th>doctor_name</th>\n",
              "      <th>staff_available</th>\n",
              "      <th>patientid</th>\n",
              "      <th>Age</th>\n",
              "      <th>gender</th>\n",
              "      <th>Type of Admission</th>\n",
              "      <th>Severity of Illness</th>\n",
              "      <th>health_conditions</th>\n",
              "      <th>Visitors with Patient</th>\n",
              "      <th>Insurance</th>\n",
              "      <th>Admission_Deposit</th>\n",
              "      <th>Stay (in days)</th>\n",
              "    </tr>\n",
              "  </thead>\n",
              "  <tbody>\n",
              "    <tr>\n",
              "      <th>0</th>\n",
              "      <td>4</td>\n",
              "      <td>gynecology</td>\n",
              "      <td>D</td>\n",
              "      <td>Dr Sophia</td>\n",
              "      <td>0</td>\n",
              "      <td>33070</td>\n",
              "      <td>41-50</td>\n",
              "      <td>Female</td>\n",
              "      <td>Trauma</td>\n",
              "      <td>Extreme</td>\n",
              "      <td>Diabetes</td>\n",
              "      <td>4</td>\n",
              "      <td>Yes</td>\n",
              "      <td>2966.408696</td>\n",
              "      <td>8</td>\n",
              "    </tr>\n",
              "    <tr>\n",
              "      <th>1</th>\n",
              "      <td>4</td>\n",
              "      <td>gynecology</td>\n",
              "      <td>B</td>\n",
              "      <td>Dr Sophia</td>\n",
              "      <td>2</td>\n",
              "      <td>34808</td>\n",
              "      <td>31-40</td>\n",
              "      <td>Female</td>\n",
              "      <td>Trauma</td>\n",
              "      <td>Minor</td>\n",
              "      <td>Heart disease</td>\n",
              "      <td>2</td>\n",
              "      <td>No</td>\n",
              "      <td>3554.835677</td>\n",
              "      <td>9</td>\n",
              "    </tr>\n",
              "    <tr>\n",
              "      <th>2</th>\n",
              "      <td>2</td>\n",
              "      <td>gynecology</td>\n",
              "      <td>B</td>\n",
              "      <td>Dr Sophia</td>\n",
              "      <td>8</td>\n",
              "      <td>44577</td>\n",
              "      <td>21-30</td>\n",
              "      <td>Female</td>\n",
              "      <td>Trauma</td>\n",
              "      <td>Extreme</td>\n",
              "      <td>Diabetes</td>\n",
              "      <td>2</td>\n",
              "      <td>Yes</td>\n",
              "      <td>5624.733654</td>\n",
              "      <td>7</td>\n",
              "    </tr>\n",
              "    <tr>\n",
              "      <th>3</th>\n",
              "      <td>4</td>\n",
              "      <td>gynecology</td>\n",
              "      <td>D</td>\n",
              "      <td>Dr Olivia</td>\n",
              "      <td>7</td>\n",
              "      <td>3695</td>\n",
              "      <td>31-40</td>\n",
              "      <td>Female</td>\n",
              "      <td>Urgent</td>\n",
              "      <td>Moderate</td>\n",
              "      <td>None</td>\n",
              "      <td>4</td>\n",
              "      <td>No</td>\n",
              "      <td>4814.149231</td>\n",
              "      <td>8</td>\n",
              "    </tr>\n",
              "    <tr>\n",
              "      <th>4</th>\n",
              "      <td>2</td>\n",
              "      <td>anesthesia</td>\n",
              "      <td>E</td>\n",
              "      <td>Dr Mark</td>\n",
              "      <td>10</td>\n",
              "      <td>108956</td>\n",
              "      <td>71-80</td>\n",
              "      <td>Male</td>\n",
              "      <td>Trauma</td>\n",
              "      <td>Moderate</td>\n",
              "      <td>Diabetes</td>\n",
              "      <td>2</td>\n",
              "      <td>No</td>\n",
              "      <td>5169.269637</td>\n",
              "      <td>34</td>\n",
              "    </tr>\n",
              "  </tbody>\n",
              "</table>\n",
              "</div>\n",
              "      <button class=\"colab-df-convert\" onclick=\"convertToInteractive('df-dac76b53-feb1-43bb-9c98-2f164bd556f2')\"\n",
              "              title=\"Convert this dataframe to an interactive table.\"\n",
              "              style=\"display:none;\">\n",
              "        \n",
              "  <svg xmlns=\"http://www.w3.org/2000/svg\" height=\"24px\"viewBox=\"0 0 24 24\"\n",
              "       width=\"24px\">\n",
              "    <path d=\"M0 0h24v24H0V0z\" fill=\"none\"/>\n",
              "    <path d=\"M18.56 5.44l.94 2.06.94-2.06 2.06-.94-2.06-.94-.94-2.06-.94 2.06-2.06.94zm-11 1L8.5 8.5l.94-2.06 2.06-.94-2.06-.94L8.5 2.5l-.94 2.06-2.06.94zm10 10l.94 2.06.94-2.06 2.06-.94-2.06-.94-.94-2.06-.94 2.06-2.06.94z\"/><path d=\"M17.41 7.96l-1.37-1.37c-.4-.4-.92-.59-1.43-.59-.52 0-1.04.2-1.43.59L10.3 9.45l-7.72 7.72c-.78.78-.78 2.05 0 2.83L4 21.41c.39.39.9.59 1.41.59.51 0 1.02-.2 1.41-.59l7.78-7.78 2.81-2.81c.8-.78.8-2.07 0-2.86zM5.41 20L4 18.59l7.72-7.72 1.47 1.35L5.41 20z\"/>\n",
              "  </svg>\n",
              "      </button>\n",
              "      \n",
              "  <style>\n",
              "    .colab-df-container {\n",
              "      display:flex;\n",
              "      flex-wrap:wrap;\n",
              "      gap: 12px;\n",
              "    }\n",
              "\n",
              "    .colab-df-convert {\n",
              "      background-color: #E8F0FE;\n",
              "      border: none;\n",
              "      border-radius: 50%;\n",
              "      cursor: pointer;\n",
              "      display: none;\n",
              "      fill: #1967D2;\n",
              "      height: 32px;\n",
              "      padding: 0 0 0 0;\n",
              "      width: 32px;\n",
              "    }\n",
              "\n",
              "    .colab-df-convert:hover {\n",
              "      background-color: #E2EBFA;\n",
              "      box-shadow: 0px 1px 2px rgba(60, 64, 67, 0.3), 0px 1px 3px 1px rgba(60, 64, 67, 0.15);\n",
              "      fill: #174EA6;\n",
              "    }\n",
              "\n",
              "    [theme=dark] .colab-df-convert {\n",
              "      background-color: #3B4455;\n",
              "      fill: #D2E3FC;\n",
              "    }\n",
              "\n",
              "    [theme=dark] .colab-df-convert:hover {\n",
              "      background-color: #434B5C;\n",
              "      box-shadow: 0px 1px 3px 1px rgba(0, 0, 0, 0.15);\n",
              "      filter: drop-shadow(0px 1px 2px rgba(0, 0, 0, 0.3));\n",
              "      fill: #FFFFFF;\n",
              "    }\n",
              "  </style>\n",
              "\n",
              "      <script>\n",
              "        const buttonEl =\n",
              "          document.querySelector('#df-dac76b53-feb1-43bb-9c98-2f164bd556f2 button.colab-df-convert');\n",
              "        buttonEl.style.display =\n",
              "          google.colab.kernel.accessAllowed ? 'block' : 'none';\n",
              "\n",
              "        async function convertToInteractive(key) {\n",
              "          const element = document.querySelector('#df-dac76b53-feb1-43bb-9c98-2f164bd556f2');\n",
              "          const dataTable =\n",
              "            await google.colab.kernel.invokeFunction('convertToInteractive',\n",
              "                                                     [key], {});\n",
              "          if (!dataTable) return;\n",
              "\n",
              "          const docLinkHtml = 'Like what you see? Visit the ' +\n",
              "            '<a target=\"_blank\" href=https://colab.research.google.com/notebooks/data_table.ipynb>data table notebook</a>'\n",
              "            + ' to learn more about interactive tables.';\n",
              "          element.innerHTML = '';\n",
              "          dataTable['output_type'] = 'display_data';\n",
              "          await google.colab.output.renderOutput(dataTable, element);\n",
              "          const docLink = document.createElement('div');\n",
              "          docLink.innerHTML = docLinkHtml;\n",
              "          element.appendChild(docLink);\n",
              "        }\n",
              "      </script>\n",
              "    </div>\n",
              "  </div>\n",
              "  "
            ],
            "text/plain": [
              "   Available Extra Rooms in Hospital  Department Ward_Facility_Code  \\\n",
              "0                                  4  gynecology                  D   \n",
              "1                                  4  gynecology                  B   \n",
              "2                                  2  gynecology                  B   \n",
              "3                                  4  gynecology                  D   \n",
              "4                                  2  anesthesia                  E   \n",
              "\n",
              "  doctor_name  staff_available  patientid    Age  gender Type of Admission  \\\n",
              "0   Dr Sophia                0      33070  41-50  Female            Trauma   \n",
              "1   Dr Sophia                2      34808  31-40  Female            Trauma   \n",
              "2   Dr Sophia                8      44577  21-30  Female            Trauma   \n",
              "3   Dr Olivia                7       3695  31-40  Female            Urgent   \n",
              "4     Dr Mark               10     108956  71-80    Male            Trauma   \n",
              "\n",
              "  Severity of Illness health_conditions  Visitors with Patient Insurance  \\\n",
              "0             Extreme          Diabetes                      4       Yes   \n",
              "1               Minor     Heart disease                      2        No   \n",
              "2             Extreme          Diabetes                      2       Yes   \n",
              "3            Moderate              None                      4        No   \n",
              "4            Moderate          Diabetes                      2        No   \n",
              "\n",
              "   Admission_Deposit  Stay (in days)  \n",
              "0        2966.408696               8  \n",
              "1        3554.835677               9  \n",
              "2        5624.733654               7  \n",
              "3        4814.149231               8  \n",
              "4        5169.269637              34  "
            ]
          },
          "execution_count": 6,
          "metadata": {},
          "output_type": "execute_result"
        }
      ],
      "source": [
        "df_hos.head()"
      ]
    },
    {
      "cell_type": "code",
      "execution_count": 7,
      "metadata": {
        "id": "mi_1Q7Ncvq4q"
      },
      "outputs": [],
      "source": [
        "#Función para analizar diferentes aspectos de un dataframe a nivel de estructura y datos\n",
        "def analyse_df(df, corr_limit = 0.75):\n",
        "    \"\"\"Analyse any dataframe and print results\n",
        "    * Muestra cantidad de filas y columnas, cantidad de filas duplicadas, tamaño, tipos de datos\n",
        "    * Chequea valores nulos\n",
        "    * Chequea la correlación entre columnas. Por defecto: 0.75 para definir si existe relación\n",
        "    \"\"\"   \n",
        "\n",
        "    print('Información General:')\n",
        "    print(f'{df.shape[0]} Rows {df.shape[1]} Columnas'\n",
        "          f'\\n{df.duplicated().sum()} Filas duplicadas'\n",
        "          f'\\nTamaño: {df.memory_usage().sum()/(1024*1024):.2f}Mb')\n",
        "    \n",
        "    # Chequeando Data Types\n",
        "    int_list, float_list,object_list,bool_list,other_list =[[] for i in range(5)]\n",
        "    for col in df.columns:\n",
        "        if df[col].dtype == 'int64':\n",
        "            int_list.append(col)\n",
        "        elif df[col].dtype == 'float64':\n",
        "            float_list.append(col)\n",
        "        elif df[col].dtype == 'object':\n",
        "            object_list.append(col)\n",
        "        elif df[col].dtype == 'boolean':\n",
        "            bool_list.append(col)\n",
        "        else:\n",
        "            other_list.append(col)\n",
        "            \n",
        "    for type_list,data_type in zip([int_list, float_list,object_list,bool_list,other_list],\n",
        "                                   ['int64','float64','object','boolean','other']):\n",
        "        if len(type_list)>0:\n",
        "            print(f'\\nColumns {data_type}: {type_list}')\n",
        "            \n",
        "    # Info General\n",
        "    display(df.describe())\n",
        "    \n",
        "    # Chequeando valores nulos\n",
        "    print('\\nChequeando valores nulos:')\n",
        "    col_with_missing_counter = 0\n",
        "    for col in df.columns:\n",
        "        qnt_missing = df[col].isna().sum()\n",
        "        if qnt_missing > 0:\n",
        "            col_with_missing_counter +=1\n",
        "            print(f'La columna \"{col}\" tiene {qnt_missing} nulos ({qnt_missing/df.shape[0]:.2%})')\n",
        "    if col_with_missing_counter ==0 :\n",
        "        print('El DataFrame no tiene nulos')\n",
        "        \n",
        "    # Chequeando la correlación lineal entre columnas\n",
        "    print('\\nChequeando la Correlation:')\n",
        "    df_corr = df.corr() \n",
        "    ckecked_list =[] \n",
        "    cols_with_correlation_counter = 0\n",
        "    for col in df_corr.columns:\n",
        "        ckecked_list.append(col)\n",
        "        for i in range(len(df_corr)):\n",
        "            if ((df_corr[col][i] > corr_limit or df_corr[col][i] < -corr_limit) and\n",
        "                (df_corr.index[i] not in ckecked_list)):\n",
        "                cols_with_correlation_counter += 1\n",
        "                print(f'Se encontró correlación entre las columnas '\n",
        "                      f'{df_corr.index[i]} and {col} -> Pearson coef. = {df_corr[col][i]:.2f}')         \n",
        "    if cols_with_correlation_counter == 0:\n",
        "        print('No se encontró correlación')"
      ]
    },
    {
      "cell_type": "code",
      "execution_count": 8,
      "metadata": {
        "colab": {
          "base_uri": "https://localhost:8080/",
          "height": 578
        },
        "id": "tLL4Fkt_xXR7",
        "outputId": "bb102d4e-048c-4157-f75d-2a2cd6f34e81"
      },
      "outputs": [
        {
          "name": "stdout",
          "output_type": "stream",
          "text": [
            "Información General:\n",
            "410000 Rows 15 Columnas\n",
            "0 Filas duplicadas\n",
            "Tamaño: 46.92Mb\n",
            "\n",
            "Columns int64: ['Available Extra Rooms in Hospital', 'staff_available', 'patientid', 'Visitors with Patient', 'Stay (in days)']\n",
            "\n",
            "Columns float64: ['Admission_Deposit']\n",
            "\n",
            "Columns object: ['Department', 'Ward_Facility_Code', 'doctor_name', 'Age', 'gender', 'Type of Admission', 'Severity of Illness', 'health_conditions', 'Insurance']\n"
          ]
        },
        {
          "data": {
            "text/html": [
              "\n",
              "  <div id=\"df-8b0d335a-7e68-4a38-a4ca-1ab95ea6d984\">\n",
              "    <div class=\"colab-df-container\">\n",
              "      <div>\n",
              "<style scoped>\n",
              "    .dataframe tbody tr th:only-of-type {\n",
              "        vertical-align: middle;\n",
              "    }\n",
              "\n",
              "    .dataframe tbody tr th {\n",
              "        vertical-align: top;\n",
              "    }\n",
              "\n",
              "    .dataframe thead th {\n",
              "        text-align: right;\n",
              "    }\n",
              "</style>\n",
              "<table border=\"1\" class=\"dataframe\">\n",
              "  <thead>\n",
              "    <tr style=\"text-align: right;\">\n",
              "      <th></th>\n",
              "      <th>Available Extra Rooms in Hospital</th>\n",
              "      <th>staff_available</th>\n",
              "      <th>patientid</th>\n",
              "      <th>Visitors with Patient</th>\n",
              "      <th>Admission_Deposit</th>\n",
              "      <th>Stay (in days)</th>\n",
              "    </tr>\n",
              "  </thead>\n",
              "  <tbody>\n",
              "    <tr>\n",
              "      <th>count</th>\n",
              "      <td>410000.000000</td>\n",
              "      <td>410000.000000</td>\n",
              "      <td>410000.000000</td>\n",
              "      <td>410000.000000</td>\n",
              "      <td>410000.000000</td>\n",
              "      <td>410000.000000</td>\n",
              "    </tr>\n",
              "    <tr>\n",
              "      <th>mean</th>\n",
              "      <td>3.639376</td>\n",
              "      <td>5.020946</td>\n",
              "      <td>63095.940020</td>\n",
              "      <td>3.552520</td>\n",
              "      <td>4723.419239</td>\n",
              "      <td>12.378193</td>\n",
              "    </tr>\n",
              "    <tr>\n",
              "      <th>std</th>\n",
              "      <td>2.701702</td>\n",
              "      <td>3.158018</td>\n",
              "      <td>41686.175937</td>\n",
              "      <td>2.247459</td>\n",
              "      <td>1047.420292</td>\n",
              "      <td>7.905618</td>\n",
              "    </tr>\n",
              "    <tr>\n",
              "      <th>min</th>\n",
              "      <td>0.000000</td>\n",
              "      <td>0.000000</td>\n",
              "      <td>-3146.000000</td>\n",
              "      <td>0.000000</td>\n",
              "      <td>1654.005148</td>\n",
              "      <td>3.000000</td>\n",
              "    </tr>\n",
              "    <tr>\n",
              "      <th>25%</th>\n",
              "      <td>2.000000</td>\n",
              "      <td>2.000000</td>\n",
              "      <td>25405.000000</td>\n",
              "      <td>2.000000</td>\n",
              "      <td>4072.638351</td>\n",
              "      <td>8.000000</td>\n",
              "    </tr>\n",
              "    <tr>\n",
              "      <th>50%</th>\n",
              "      <td>3.000000</td>\n",
              "      <td>5.000000</td>\n",
              "      <td>57736.000000</td>\n",
              "      <td>3.000000</td>\n",
              "      <td>4627.488745</td>\n",
              "      <td>9.000000</td>\n",
              "    </tr>\n",
              "    <tr>\n",
              "      <th>75%</th>\n",
              "      <td>4.000000</td>\n",
              "      <td>8.000000</td>\n",
              "      <td>103278.250000</td>\n",
              "      <td>4.000000</td>\n",
              "      <td>5092.349430</td>\n",
              "      <td>11.000000</td>\n",
              "    </tr>\n",
              "    <tr>\n",
              "      <th>max</th>\n",
              "      <td>24.000000</td>\n",
              "      <td>10.000000</td>\n",
              "      <td>134400.000000</td>\n",
              "      <td>32.000000</td>\n",
              "      <td>10104.726390</td>\n",
              "      <td>51.000000</td>\n",
              "    </tr>\n",
              "  </tbody>\n",
              "</table>\n",
              "</div>\n",
              "      <button class=\"colab-df-convert\" onclick=\"convertToInteractive('df-8b0d335a-7e68-4a38-a4ca-1ab95ea6d984')\"\n",
              "              title=\"Convert this dataframe to an interactive table.\"\n",
              "              style=\"display:none;\">\n",
              "        \n",
              "  <svg xmlns=\"http://www.w3.org/2000/svg\" height=\"24px\"viewBox=\"0 0 24 24\"\n",
              "       width=\"24px\">\n",
              "    <path d=\"M0 0h24v24H0V0z\" fill=\"none\"/>\n",
              "    <path d=\"M18.56 5.44l.94 2.06.94-2.06 2.06-.94-2.06-.94-.94-2.06-.94 2.06-2.06.94zm-11 1L8.5 8.5l.94-2.06 2.06-.94-2.06-.94L8.5 2.5l-.94 2.06-2.06.94zm10 10l.94 2.06.94-2.06 2.06-.94-2.06-.94-.94-2.06-.94 2.06-2.06.94z\"/><path d=\"M17.41 7.96l-1.37-1.37c-.4-.4-.92-.59-1.43-.59-.52 0-1.04.2-1.43.59L10.3 9.45l-7.72 7.72c-.78.78-.78 2.05 0 2.83L4 21.41c.39.39.9.59 1.41.59.51 0 1.02-.2 1.41-.59l7.78-7.78 2.81-2.81c.8-.78.8-2.07 0-2.86zM5.41 20L4 18.59l7.72-7.72 1.47 1.35L5.41 20z\"/>\n",
              "  </svg>\n",
              "      </button>\n",
              "      \n",
              "  <style>\n",
              "    .colab-df-container {\n",
              "      display:flex;\n",
              "      flex-wrap:wrap;\n",
              "      gap: 12px;\n",
              "    }\n",
              "\n",
              "    .colab-df-convert {\n",
              "      background-color: #E8F0FE;\n",
              "      border: none;\n",
              "      border-radius: 50%;\n",
              "      cursor: pointer;\n",
              "      display: none;\n",
              "      fill: #1967D2;\n",
              "      height: 32px;\n",
              "      padding: 0 0 0 0;\n",
              "      width: 32px;\n",
              "    }\n",
              "\n",
              "    .colab-df-convert:hover {\n",
              "      background-color: #E2EBFA;\n",
              "      box-shadow: 0px 1px 2px rgba(60, 64, 67, 0.3), 0px 1px 3px 1px rgba(60, 64, 67, 0.15);\n",
              "      fill: #174EA6;\n",
              "    }\n",
              "\n",
              "    [theme=dark] .colab-df-convert {\n",
              "      background-color: #3B4455;\n",
              "      fill: #D2E3FC;\n",
              "    }\n",
              "\n",
              "    [theme=dark] .colab-df-convert:hover {\n",
              "      background-color: #434B5C;\n",
              "      box-shadow: 0px 1px 3px 1px rgba(0, 0, 0, 0.15);\n",
              "      filter: drop-shadow(0px 1px 2px rgba(0, 0, 0, 0.3));\n",
              "      fill: #FFFFFF;\n",
              "    }\n",
              "  </style>\n",
              "\n",
              "      <script>\n",
              "        const buttonEl =\n",
              "          document.querySelector('#df-8b0d335a-7e68-4a38-a4ca-1ab95ea6d984 button.colab-df-convert');\n",
              "        buttonEl.style.display =\n",
              "          google.colab.kernel.accessAllowed ? 'block' : 'none';\n",
              "\n",
              "        async function convertToInteractive(key) {\n",
              "          const element = document.querySelector('#df-8b0d335a-7e68-4a38-a4ca-1ab95ea6d984');\n",
              "          const dataTable =\n",
              "            await google.colab.kernel.invokeFunction('convertToInteractive',\n",
              "                                                     [key], {});\n",
              "          if (!dataTable) return;\n",
              "\n",
              "          const docLinkHtml = 'Like what you see? Visit the ' +\n",
              "            '<a target=\"_blank\" href=https://colab.research.google.com/notebooks/data_table.ipynb>data table notebook</a>'\n",
              "            + ' to learn more about interactive tables.';\n",
              "          element.innerHTML = '';\n",
              "          dataTable['output_type'] = 'display_data';\n",
              "          await google.colab.output.renderOutput(dataTable, element);\n",
              "          const docLink = document.createElement('div');\n",
              "          docLink.innerHTML = docLinkHtml;\n",
              "          element.appendChild(docLink);\n",
              "        }\n",
              "      </script>\n",
              "    </div>\n",
              "  </div>\n",
              "  "
            ],
            "text/plain": [
              "       Available Extra Rooms in Hospital  staff_available      patientid  \\\n",
              "count                      410000.000000    410000.000000  410000.000000   \n",
              "mean                            3.639376         5.020946   63095.940020   \n",
              "std                             2.701702         3.158018   41686.175937   \n",
              "min                             0.000000         0.000000   -3146.000000   \n",
              "25%                             2.000000         2.000000   25405.000000   \n",
              "50%                             3.000000         5.000000   57736.000000   \n",
              "75%                             4.000000         8.000000  103278.250000   \n",
              "max                            24.000000        10.000000  134400.000000   \n",
              "\n",
              "       Visitors with Patient  Admission_Deposit  Stay (in days)  \n",
              "count          410000.000000      410000.000000   410000.000000  \n",
              "mean                3.552520        4723.419239       12.378193  \n",
              "std                 2.247459        1047.420292        7.905618  \n",
              "min                 0.000000        1654.005148        3.000000  \n",
              "25%                 2.000000        4072.638351        8.000000  \n",
              "50%                 3.000000        4627.488745        9.000000  \n",
              "75%                 4.000000        5092.349430       11.000000  \n",
              "max                32.000000       10104.726390       51.000000  "
            ]
          },
          "metadata": {},
          "output_type": "display_data"
        },
        {
          "name": "stdout",
          "output_type": "stream",
          "text": [
            "\n",
            "Chequeando valores nulos:\n",
            "El DataFrame no tiene nulos\n",
            "\n",
            "Chequeando la Correlation:\n",
            "No se encontró correlación\n"
          ]
        }
      ],
      "source": [
        "analyse_df(df_hos)"
      ]
    },
    {
      "cell_type": "markdown",
      "metadata": {
        "id": "soHy6jwNygVs"
      },
      "source": [
        "**Analizando las columnas**: las siguientes columnas se van a descartar\n",
        "\n",
        "\n",
        "*   La columna: Ward_Facility_Code, número de habitación, no es representativa para este modelo, por sentido común.\n",
        "*   La columna: Available Extra Rooms in Hospital, cantidad de habitaciones extras, no es representativa para este modelo.\n",
        "*   La columna: staff_available, personal disponible, no es representativa para este modelo.\n",
        "*   La columna: patientid, ID del paciente, no es representativa para este modelo por sentido común.\n",
        "*   La columna: Visitors with Patient, cantidad de personas que visitaron al paciente, no es representativa para este modelo por sentido común, es un dato que se va alimentando con el paso del tiempo y no al ingreso.\n"
      ]
    },
    {
      "cell_type": "code",
      "execution_count": null,
      "metadata": {
        "id": "d6ANLoUPyfZL"
      },
      "outputs": [],
      "source": []
    },
    {
      "cell_type": "code",
      "execution_count": 9,
      "metadata": {
        "colab": {
          "base_uri": "https://localhost:8080/"
        },
        "id": "SnSq-mZ1yQRN",
        "outputId": "707cb94f-d130-4312-d460-60d47b04d6e3"
      },
      "outputs": [
        {
          "data": {
            "text/plain": [
              "gynecology            281625\n",
              "radiotherapy           69132\n",
              "anesthesia             36250\n",
              "TB & Chest disease     18825\n",
              "surgery                 4168\n",
              "Name: Department, dtype: int64"
            ]
          },
          "execution_count": 9,
          "metadata": {},
          "output_type": "execute_result"
        }
      ],
      "source": [
        "#df_hos.doctor_name.value_counts()\n",
        "#df_hos.Age.value_counts()\n",
        "#df_hos.gender.value_counts()\n",
        "#df_hos['Type of Admission'].value_counts()\n",
        "#df_hos['Severity of Illness'].value_counts()\n",
        "#df_hos.health_conditions.value_counts()\n",
        "#df_hos.Insurance.value_counts()\n",
        "df_hos.Department.value_counts()"
      ]
    },
    {
      "cell_type": "code",
      "execution_count": null,
      "metadata": {
        "id": "x6JcLKJD1dtK"
      },
      "outputs": [],
      "source": []
    },
    {
      "cell_type": "markdown",
      "metadata": {
        "id": "wv1D2qbe1eg3"
      },
      "source": [
        "# **Transformación de Datos**\n",
        "Se realiza adecuación de los datos para luego poder utilizarlos en el modelo"
      ]
    },
    {
      "cell_type": "code",
      "execution_count": 10,
      "metadata": {
        "id": "z8F6eoeReTrr"
      },
      "outputs": [],
      "source": [
        "#Creo que la columna target: asigno valor 1 a todos los registros que tienen más de 8 en el el campo Stay (in days)\n",
        "df_hos['EHP'] = df_hos['Stay (in days)'].apply(lambda x: 1 if x > 8 else 0 )"
      ]
    },
    {
      "cell_type": "code",
      "execution_count": 11,
      "metadata": {
        "colab": {
          "base_uri": "https://localhost:8080/",
          "height": 351
        },
        "id": "iJ6iH_RbowG3",
        "outputId": "a7e560fe-6fcd-4c19-d423-9f18f264a01a"
      },
      "outputs": [
        {
          "name": "stderr",
          "output_type": "stream",
          "text": [
            "/usr/local/lib/python3.8/dist-packages/seaborn/_decorators.py:36: FutureWarning: Pass the following variable as a keyword arg: x. From version 0.12, the only valid positional argument will be `data`, and passing other arguments without an explicit keyword will result in an error or misinterpretation.\n",
            "  warnings.warn(\n"
          ]
        },
        {
          "data": {
            "text/plain": [
              "<matplotlib.axes._subplots.AxesSubplot at 0x7fa650c1c220>"
            ]
          },
          "execution_count": 11,
          "metadata": {},
          "output_type": "execute_result"
        },
        {
          "data": {
            "image/png": "[encoded data removed]",
            "text/plain": [
              "<Figure size 432x288 with 1 Axes>"
            ]
          },
          "metadata": {
            "needs_background": "light"
          },
          "output_type": "display_data"
        }
      ],
      "source": [
        "sns.countplot(df_hos['EHP'],label=\"Cantidad\")"
      ]
    },
    {
      "cell_type": "code",
      "execution_count": 16,
      "metadata": {
        "colab": {
          "base_uri": "https://localhost:8080/"
        },
        "id": "xM1mBcg1owG4",
        "outputId": "883eb000-450e-4b08-a590-a256361a9177"
      },
      "outputs": [
        {
          "name": "stdout",
          "output_type": "stream",
          "text": [
            "porcentaje de pacientes sin EHP 37.7\n",
            "porcentaje de pacientes con EHP 62.3\n"
          ]
        }
      ],
      "source": [
        "#Proporción registros con Estancia Hospitalaria Prolongada\n",
        "cantidad_si_EHP = len(df_hos[df_hos['EHP']==1])\n",
        "cantidad_no_EHP = len(df_hos[df_hos['EHP']==0])\n",
        "pct_de_no = cantidad_no_EHP / (cantidad_no_EHP + cantidad_si_EHP)\n",
        "print(\"porcentaje de pacientes sin EHP\", round(pct_de_no*100,2))\n",
        "pct_de_si = cantidad_si_EHP / (cantidad_no_EHP + cantidad_si_EHP)\n",
        "print(\"porcentaje de pacientes con EHP\", round(pct_de_si * 100,2))"
      ]
    },
    {
      "cell_type": "code",
      "execution_count": 17,
      "metadata": {
        "colab": {
          "base_uri": "https://localhost:8080/",
          "height": 1000
        },
        "id": "aRTW9yuYowG5",
        "outputId": "3f879640-5f92-4aa0-fad2-8085d181912d"
      },
      "outputs": [
        {
          "data": {
            "image/png": "[encoded data removed]",
            "text/plain": [
              "<Figure size 432x288 with 1 Axes>"
            ]
          },
          "metadata": {
            "needs_background": "light"
          },
          "output_type": "display_data"
        },
        {
          "data": {
            "image/png": "[encoded data removed]",
            "text/plain": [
              "<Figure size 432x288 with 1 Axes>"
            ]
          },
          "metadata": {
            "needs_background": "light"
          },
          "output_type": "display_data"
        },
        {
          "data": {
            "image/png": "[encoded data removed]",
            "text/plain": [
              "<Figure size 432x288 with 1 Axes>"
            ]
          },
          "metadata": {
            "needs_background": "light"
          },
          "output_type": "display_data"
        },
        {
          "data": {
            "image/png": "[encoded data removed]",
            "text/plain": [
              "<Figure size 432x288 with 1 Axes>"
            ]
          },
          "metadata": {
            "needs_background": "light"
          },
          "output_type": "display_data"
        },
        {
          "data": {
            "image/png": "[encoded data removed]",
            "text/plain": [
              "<Figure size 432x288 with 1 Axes>"
            ]
          },
          "metadata": {
            "needs_background": "light"
          },
          "output_type": "display_data"
        },
        {
          "data": {
            "image/png": "[encoded data removed]",
            "text/plain": [
              "<Figure size 432x288 with 1 Axes>"
            ]
          },
          "metadata": {
            "needs_background": "light"
          },
          "output_type": "display_data"
        },
        {
          "data": {
            "image/png": "[encoded data removed]",
            "text/plain": [
              "<Figure size 432x288 with 1 Axes>"
            ]
          },
          "metadata": {
            "needs_background": "light"
          },
          "output_type": "display_data"
        },
        {
          "data": {
            "image/png": "[encoded data removed]",
            "text/plain": [
              "<Figure size 432x288 with 1 Axes>"
            ]
          },
          "metadata": {
            "needs_background": "light"
          },
          "output_type": "display_data"
        },
        {
          "data": {
            "image/png": "[encoded data removed]",
            "text/plain": [
              "<Figure size 432x288 with 1 Axes>"
            ]
          },
          "metadata": {
            "needs_background": "light"
          },
          "output_type": "display_data"
        },
        {
          "data": {
            "image/png": "[encoded data removed]",
            "text/plain": [
              "<Figure size 432x288 with 1 Axes>"
            ]
          },
          "metadata": {
            "needs_background": "light"
          },
          "output_type": "display_data"
        },
        {
          "data": {
            "image/png": "[encoded data removed]",
            "text/plain": [
              "<Figure size 432x288 with 1 Axes>"
            ]
          },
          "metadata": {
            "needs_background": "light"
          },
          "output_type": "display_data"
        }
      ],
      "source": [
        "# Grafico para observar la relación de cada columna con la columna objetivo\n",
        "for i in df_hos[['Available Extra Rooms in Hospital', 'Department', 'doctor_name', 'staff_available', 'Age', 'gender', 'Type of Admission', 'Severity of Illness', 'health_conditions',\n",
        "       'Visitors with Patient', 'Insurance']].columns:\n",
        "        \n",
        "        #%matplotlib inline\n",
        "        pd.crosstab(df_hos[i], df_hos.EHP).plot(kind='bar')\n",
        "        plt.title('EHP para ' + i)\n",
        "        plt.xlabel(i)\n",
        "        plt.ylabel('EHP')"
      ]
    },
    {
      "cell_type": "code",
      "execution_count": 18,
      "metadata": {
        "id": "R5V2EcPvowG7"
      },
      "outputs": [],
      "source": [
        "#Normalizo nombres de columnas, todos en minúsculas y reemplazo espacios en blanco por guión bajo\n",
        "df_hos.columns = [k.lower().replace(\" \", \"_\") for k in df_hos.columns]"
      ]
    },
    {
      "cell_type": "code",
      "execution_count": 19,
      "metadata": {
        "id": "iw8q1ZNVowG8"
      },
      "outputs": [],
      "source": [
        "#elimino la columna stay in days luego de haber generado la columna target para el modelo\n",
        "df_hos.drop(columns=[\"stay_(in_days)\"], inplace=True)"
      ]
    },
    {
      "cell_type": "code",
      "execution_count": 20,
      "metadata": {
        "id": "X9PwUnABowG8"
      },
      "outputs": [],
      "source": [
        "#cambio el tipo de dato a category todos los que son object (strings)\n",
        "df_hos[df_hos.select_dtypes(['object']).columns] = df_hos.select_dtypes(['object']).apply(lambda x: x.astype('category'))"
      ]
    },
    {
      "cell_type": "code",
      "execution_count": null,
      "metadata": {
        "id": "R0FL-BARQK3A"
      },
      "outputs": [],
      "source": [
        "#df_hos.drop(columns=['age_0_10', 'age_11_20', 'age_21_30', 'age_31_40', 'age_41_50', 'age_51_60', 'age_61_70', 'age_71_80', 'age_81_90', 'age_91_100'], inplace=True)"
      ]
    },
    {
      "cell_type": "code",
      "execution_count": 21,
      "metadata": {
        "colab": {
          "base_uri": "https://localhost:8080/"
        },
        "id": "zEtKRTE1owG_",
        "outputId": "c1e9d1b3-d53a-49c7-ba37-5286f56f6f10"
      },
      "outputs": [
        {
          "name": "stdout",
          "output_type": "stream",
          "text": [
            "<class 'pandas.core.frame.DataFrame'>\n",
            "RangeIndex: 410000 entries, 0 to 409999\n",
            "Data columns (total 15 columns):\n",
            " #   Column                             Non-Null Count   Dtype   \n",
            "---  ------                             --------------   -----   \n",
            " 0   available_extra_rooms_in_hospital  410000 non-null  int64   \n",
            " 1   department                         410000 non-null  category\n",
            " 2   ward_facility_code                 410000 non-null  category\n",
            " 3   doctor_name                        410000 non-null  category\n",
            " 4   staff_available                    410000 non-null  int64   \n",
            " 5   patientid                          410000 non-null  int64   \n",
            " 6   age                                410000 non-null  category\n",
            " 7   gender                             410000 non-null  category\n",
            " 8   type_of_admission                  410000 non-null  category\n",
            " 9   severity_of_illness                410000 non-null  category\n",
            " 10  health_conditions                  410000 non-null  category\n",
            " 11  visitors_with_patient              410000 non-null  int64   \n",
            " 12  insurance                          410000 non-null  category\n",
            " 13  admission_deposit                  410000 non-null  float64 \n",
            " 14  ehp                                410000 non-null  int64   \n",
            "dtypes: category(9), float64(1), int64(5)\n",
            "memory usage: 22.3 MB\n"
          ]
        }
      ],
      "source": [
        "df_hos.info()"
      ]
    },
    {
      "cell_type": "code",
      "execution_count": null,
      "metadata": {
        "id": "SbEKf_yTRIl7"
      },
      "outputs": [],
      "source": [
        "from sklearn.preprocessing import OrdinalEncoder"
      ]
    },
    {
      "cell_type": "code",
      "execution_count": null,
      "metadata": {
        "id": "QRYM974howHA",
        "outputId": "ffa402d5-654f-4e4f-bfa1-c9a02a8e05dc"
      },
      "outputs": [
        {
          "data": {
            "text/plain": [
              "['41-50', '31-40', '21-30', '31-40', '71-80', ..., '31-40', '21-30', '21-30', '21-30', '41-50']\n",
              "Length: 410000\n",
              "Categories (10, object): ['0-10', '11-20', '21-30', '31-40', ..., '61-70', '71-80', '81-90', '91-100']"
            ]
          },
          "execution_count": 19,
          "metadata": {},
          "output_type": "execute_result"
        }
      ],
      "source": [
        "df_hos.age.values"
      ]
    },
    {
      "cell_type": "code",
      "execution_count": null,
      "metadata": {
        "id": "Rhi08tJHRPOA"
      },
      "outputs": [],
      "source": [
        "#Creo una nueva columna para el rango de edades utilizando OrdinalEncoder\n",
        "enc = OrdinalEncoder()\n",
        "valores = df_hos.age.values.reshape(-1,1)\n",
        "enc.fit(valores)\n",
        "valores_endcoded = enc.transform(valores)\n",
        "print( enc.categories_ )"
      ]
    },
    {
      "cell_type": "code",
      "execution_count": null,
      "metadata": {
        "id": "WdpTDt0yRrYK"
      },
      "outputs": [],
      "source": [
        "#df_hos['age_encoded'] = valores_endcoded[:,0]"
      ]
    },
    {
      "cell_type": "code",
      "execution_count": null,
      "metadata": {
        "id": "L_YHLB5u3mNm"
      },
      "outputs": [],
      "source": [
        "'''\n",
        "fig, ax = plt.subplots(figsize=(20,20))\n",
        "corr = df_x2.corr()\n",
        "sns.heatmap(corr, \n",
        "        xticklabels=corr.columns,\n",
        "        yticklabels=corr.columns,\n",
        "        annot=True,\n",
        "        ax=ax);\n",
        "'''"
      ]
    },
    {
      "cell_type": "code",
      "execution_count": null,
      "metadata": {
        "id": "N7i21mCMeZDf"
      },
      "outputs": [],
      "source": [
        "df_x2 = df_hos[[\n",
        "    'dep_TB&Chest', 'dep_anesthesia', 'dep_radiotherapy', 'dep_surgery',\n",
        "    'age_encoded',\n",
        "    'gen_male', 'gen_female', 'gen_other',\n",
        "    'type_Emergency', 'type_Trauma', 'type_Urgent',\n",
        "    'sev_Extreme', 'sev_Minor', 'sev_Moderate',\n",
        "    'hcon_Asthama', 'hcon_Diabetes', 'hcon_Heart_disease', 'hcon_High_Blood_Pressure', 'hcon_None', 'hcon_Other',\n",
        "    'ins_no', 'ins_yes',\n",
        "    'Available Extra Rooms in Hospital','staff_available',\n",
        "    'Admission_Deposit',\n",
        "    'EHP']]\n",
        "\n",
        "#    'Admission_Deposit',\n",
        "#    'dep_TB&Chest', 'dep_anesthesia', 'dep_gynecology', 'dep_radiotherapy', 'dep_surgery',\n",
        "#    'age_0_10', 'age_11_20', 'age_21_30', 'age_31_40', 'age_41_50', 'age_51_60', 'age_61_70', 'age_71_80', 'age_81_90', 'age_91_100',\n"
      ]
    },
    {
      "cell_type": "code",
      "execution_count": null,
      "metadata": {
        "id": "MTu8C2Gwd15X"
      },
      "outputs": [],
      "source": [
        "#df_x2 = df_hos[['dep_anesthesia', 'dep_surgery', 'age_encoded','gen_male','gen_female','gen_other','EHP']]"
      ]
    },
    {
      "cell_type": "markdown",
      "metadata": {
        "id": "uRHJ-sCnBqxu"
      },
      "source": [
        "# **Corriendo Modelos de ML**\n",
        "Se divide el set de datos en entrenamiento y test (20%)"
      ]
    },
    {
      "cell_type": "code",
      "execution_count": 22,
      "metadata": {
        "id": "ALJZ4ObYekNO"
      },
      "outputs": [],
      "source": [
        "#Defino la columnas para las variables independientes y dependiente\n",
        "X = df_hos[['department', 'age', 'gender', 'type_of_admission', 'severity_of_illness', 'health_conditions', 'insurance', 'admission_deposit']]\n",
        "y = df_hos['ehp']"
      ]
    },
    {
      "cell_type": "code",
      "execution_count": 23,
      "metadata": {
        "id": "ma6Ka-BweqmU"
      },
      "outputs": [],
      "source": [
        "#Split test del 20%\n",
        "x_train, x_test, y_train, y_test = train_test_split(X, y, test_size=0.2)"
      ]
    },
    {
      "cell_type": "code",
      "execution_count": null,
      "metadata": {
        "id": "-jkdJM65emKt"
      },
      "outputs": [],
      "source": [
        "'''\n",
        "#Standarizo los valores usando StandardScaler\n",
        "from sklearn.preprocessing import StandardScaler\n",
        "sc_X = StandardScaler()\n",
        "x_train = sc_X.fit_transform(x_train)\n",
        "x_test = sc_X.transform(x_test)\n",
        "'''"
      ]
    },
    {
      "cell_type": "code",
      "execution_count": null,
      "metadata": {
        "id": "NzlzbfS5ezGz"
      },
      "outputs": [],
      "source": []
    },
    {
      "cell_type": "markdown",
      "metadata": {
        "id": "hvdKY0vgDseD"
      },
      "source": [
        "## Modelo: Arbol de Decisión"
      ]
    },
    {
      "cell_type": "code",
      "execution_count": null,
      "metadata": {
        "id": "Bq_ZITSae1Tw"
      },
      "outputs": [],
      "source": [
        "clf = DecisionTreeClassifier(max_depth = 9, random_state = 42)"
      ]
    },
    {
      "cell_type": "code",
      "execution_count": null,
      "metadata": {
        "colab": {
          "base_uri": "https://localhost:8080/"
        },
        "id": "xUGZuB3we4L2",
        "outputId": "cedebeea-4bd3-4db6-9411-55733119774b"
      },
      "outputs": [
        {
          "data": {
            "text/plain": [
              "DecisionTreeClassifier(max_depth=9, random_state=42)"
            ]
          },
          "execution_count": 70,
          "metadata": {},
          "output_type": "execute_result"
        }
      ],
      "source": [
        "clf.fit(x_train, y_train)"
      ]
    },
    {
      "cell_type": "code",
      "execution_count": null,
      "metadata": {
        "colab": {
          "base_uri": "https://localhost:8080/"
        },
        "id": "kTDFRfyPghgP",
        "outputId": "16a76c5c-76e8-4490-8fd0-286f0fab87da"
      },
      "outputs": [
        {
          "name": "stdout",
          "output_type": "stream",
          "text": [
            "Accuracy on training set: 0.712\n",
            "Accuracy on test set: 0.712\n"
          ]
        }
      ],
      "source": [
        "print(\"Accuracy on training set: {:.3f}\".format(clf.score(x_train, y_train)))\n",
        "print(\"Accuracy on test set: {:.3f}\".format(clf.score(x_test, y_test)))"
      ]
    },
    {
      "cell_type": "code",
      "execution_count": null,
      "metadata": {
        "id": "Sv7jpf2Xheb5"
      },
      "outputs": [],
      "source": [
        "y_pred = clf.predict(x_test)"
      ]
    },
    {
      "cell_type": "code",
      "execution_count": null,
      "metadata": {
        "colab": {
          "base_uri": "https://localhost:8080/"
        },
        "id": "UEztMdF_g9Ev",
        "outputId": "7c4b5ef3-2ad5-46dc-a008-4edbd92847bd"
      },
      "outputs": [
        {
          "name": "stdout",
          "output_type": "stream",
          "text": [
            "              precision    recall  f1-score   support\n",
            "\n",
            "           0       0.71      0.40      0.51     31078\n",
            "           1       0.71      0.90      0.80     50922\n",
            "\n",
            "    accuracy                           0.71     82000\n",
            "   macro avg       0.71      0.65      0.65     82000\n",
            "weighted avg       0.71      0.71      0.69     82000\n",
            "\n"
          ]
        }
      ],
      "source": [
        "print(classification_report(y_test, y_pred))"
      ]
    },
    {
      "cell_type": "code",
      "execution_count": null,
      "metadata": {
        "id": "3q2SUG8ciDIA"
      },
      "outputs": [],
      "source": []
    },
    {
      "cell_type": "markdown",
      "metadata": {
        "id": "Gj5QUUmnD3MO"
      },
      "source": [
        "## Modelo Gradient Boosting"
      ]
    },
    {
      "cell_type": "code",
      "execution_count": null,
      "metadata": {
        "colab": {
          "base_uri": "https://localhost:8080/"
        },
        "id": "SZyhY4Z-iGqA",
        "outputId": "af405d07-0c89-44e3-f7d9-961857d48239"
      },
      "outputs": [
        {
          "name": "stdout",
          "output_type": "stream",
          "text": [
            "Accuracy on training set: 0.718\n",
            "Accuracy on test set: 0.717\n"
          ]
        }
      ],
      "source": [
        "gb = GradientBoostingClassifier(random_state=0)\n",
        "gb.fit(x_train, y_train)\n",
        "print(\"Accuracy on training set: {:.3f}\".format(gb.score(x_train, y_train)))\n",
        "print(\"Accuracy on test set: {:.3f}\".format(gb.score(x_test, y_test)))"
      ]
    },
    {
      "cell_type": "code",
      "execution_count": null,
      "metadata": {
        "id": "xIrHVzrpiU7a"
      },
      "outputs": [],
      "source": [
        "y_pred = gb.predict(x_test)"
      ]
    },
    {
      "cell_type": "code",
      "execution_count": null,
      "metadata": {
        "colab": {
          "base_uri": "https://localhost:8080/"
        },
        "id": "MxRN0-M_ia_P",
        "outputId": "8007bb46-b594-4ed2-a083-95b27c24a402"
      },
      "outputs": [
        {
          "name": "stdout",
          "output_type": "stream",
          "text": [
            "              precision    recall  f1-score   support\n",
            "\n",
            "           0       0.70      0.44      0.54     31078\n",
            "           1       0.72      0.89      0.80     50922\n",
            "\n",
            "    accuracy                           0.72     82000\n",
            "   macro avg       0.71      0.66      0.67     82000\n",
            "weighted avg       0.71      0.72      0.70     82000\n",
            "\n"
          ]
        }
      ],
      "source": [
        "print(classification_report(y_test, y_pred))"
      ]
    },
    {
      "cell_type": "code",
      "execution_count": null,
      "metadata": {
        "colab": {
          "base_uri": "https://localhost:8080/"
        },
        "id": "MsCEjctmils4",
        "outputId": "dd3c45ad-e697-459a-bb30-d4147b8b1635"
      },
      "outputs": [
        {
          "data": {
            "text/plain": [
              "0.7172804878048781"
            ]
          },
          "execution_count": 77,
          "metadata": {},
          "output_type": "execute_result"
        }
      ],
      "source": [
        "accuracy_score(y_test, y_pred)"
      ]
    },
    {
      "cell_type": "code",
      "execution_count": null,
      "metadata": {
        "colab": {
          "base_uri": "https://localhost:8080/"
        },
        "id": "fg-wBVK2iwGM",
        "outputId": "5c470b47-4df7-4116-a771-b14eabdf1d6b"
      },
      "outputs": [
        {
          "data": {
            "text/plain": [
              "array([0.43867044, 0.88731786])"
            ]
          },
          "execution_count": 78,
          "metadata": {},
          "output_type": "execute_result"
        }
      ],
      "source": [
        "recall_score(y_test, y_pred, average= None)"
      ]
    },
    {
      "cell_type": "markdown",
      "metadata": {
        "id": "hCu4tnlhEG4j"
      },
      "source": [
        "## Modelo Random Forest"
      ]
    },
    {
      "cell_type": "code",
      "execution_count": null,
      "metadata": {
        "colab": {
          "base_uri": "https://localhost:8080/"
        },
        "id": "ARE-cmdLjRN2",
        "outputId": "1ad6b24d-1f65-44d9-873d-dd078319e53c"
      },
      "outputs": [
        {
          "name": "stdout",
          "output_type": "stream",
          "text": [
            "Accuracy on training set: 1.000\n",
            "Accuracy on test set: 0.729\n"
          ]
        }
      ],
      "source": [
        "rf = RandomForestClassifier(n_estimators=100, random_state=0)\n",
        "rf.fit(x_train, y_train)\n",
        "print(\"Accuracy on training set: {:.3f}\".format(rf.score(x_train, y_train)))\n",
        "print(\"Accuracy on test set: {:.3f}\".format(rf.score(x_test, y_test)))"
      ]
    },
    {
      "cell_type": "code",
      "execution_count": null,
      "metadata": {
        "id": "5EwZ34wljhqz"
      },
      "outputs": [],
      "source": [
        "y_pred = rf.predict(x_test)"
      ]
    },
    {
      "cell_type": "code",
      "execution_count": null,
      "metadata": {
        "colab": {
          "base_uri": "https://localhost:8080/"
        },
        "id": "odpZMlzRk7wt",
        "outputId": "ef27fba8-fac9-48f5-ad95-15e29f4c3928"
      },
      "outputs": [
        {
          "name": "stdout",
          "output_type": "stream",
          "text": [
            "0.7288658536585366\n",
            "[0.6326702  0.78722862]\n",
            "              precision    recall  f1-score   support\n",
            "\n",
            "           0       0.64      0.63      0.64     30964\n",
            "           1       0.78      0.79      0.78     51036\n",
            "\n",
            "    accuracy                           0.73     82000\n",
            "   macro avg       0.71      0.71      0.71     82000\n",
            "weighted avg       0.73      0.73      0.73     82000\n",
            "\n"
          ]
        }
      ],
      "source": [
        "print(accuracy_score(y_test, y_pred))\n",
        "print(recall_score(y_test, y_pred, average= None))\n",
        "print(classification_report(y_test, y_pred))"
      ]
    },
    {
      "cell_type": "markdown",
      "metadata": {
        "id": "DtI09MoFEMXF"
      },
      "source": [
        "## Modelo SVC"
      ]
    },
    {
      "cell_type": "code",
      "execution_count": null,
      "metadata": {
        "colab": {
          "base_uri": "https://localhost:8080/"
        },
        "id": "CZem_hJj_G_j",
        "outputId": "6567a9d0-ac5d-421e-d3c6-568cc4c6aecf"
      },
      "outputs": [
        {
          "data": {
            "text/plain": [
              "SVC(kernel='poly', random_state=0)"
            ]
          },
          "execution_count": 77,
          "metadata": {},
          "output_type": "execute_result"
        }
      ],
      "source": [
        "clf = SVC(kernel='poly', random_state=0)\n",
        "clf.fit(x_train, y_train)"
      ]
    },
    {
      "cell_type": "code",
      "execution_count": null,
      "metadata": {
        "colab": {
          "base_uri": "https://localhost:8080/"
        },
        "id": "8Lm_1-IXC-Xz",
        "outputId": "e22e960a-e07e-46f2-9db1-7aa16a53aa31"
      },
      "outputs": [
        {
          "name": "stdout",
          "output_type": "stream",
          "text": [
            "Accuracy on training set: 0.696\n",
            "Accuracy on test set: 0.683\n"
          ]
        }
      ],
      "source": [
        "print(\"Accuracy on training set: {:.3f}\".format(clf.score(x_train, y_train)))\n",
        "print(\"Accuracy on test set: {:.3f}\".format(clf.score(x_test, y_test)))"
      ]
    },
    {
      "cell_type": "code",
      "execution_count": null,
      "metadata": {
        "id": "PqxywcUiDPWm"
      },
      "outputs": [],
      "source": [
        "y_pred = clf.predict(x_test)"
      ]
    },
    {
      "cell_type": "code",
      "execution_count": null,
      "metadata": {
        "colab": {
          "base_uri": "https://localhost:8080/"
        },
        "id": "95eh9adTC5DG",
        "outputId": "a95c8952-e0b4-499a-90a7-1dfef1edb985"
      },
      "outputs": [
        {
          "name": "stdout",
          "output_type": "stream",
          "text": [
            "0.6826829268292683\n",
            "[0.24674055 0.94329696]\n",
            "              precision    recall  f1-score   support\n",
            "\n",
            "           0       0.72      0.25      0.37      3068\n",
            "           1       0.68      0.94      0.79      5132\n",
            "\n",
            "    accuracy                           0.68      8200\n",
            "   macro avg       0.70      0.60      0.58      8200\n",
            "weighted avg       0.69      0.68      0.63      8200\n",
            "\n"
          ]
        }
      ],
      "source": [
        "print(accuracy_score(y_test, y_pred))\n",
        "print(recall_score(y_test, y_pred, average= None))\n",
        "print(classification_report(y_test, y_pred))"
      ]
    },
    {
      "cell_type": "code",
      "execution_count": null,
      "metadata": {
        "colab": {
          "base_uri": "https://localhost:8080/",
          "height": 461
        },
        "id": "Z14oqb0-I_OU",
        "outputId": "bc5cc9d6-4a05-4988-da16-a9608668aa13"
      },
      "outputs": [
        {
          "data": {
            "image/png": "[encoded data removed]",
            "text/plain": [
              "<Figure size 864x504 with 1 Axes>"
            ]
          },
          "metadata": {
            "needs_background": "light"
          },
          "output_type": "display_data"
        }
      ],
      "source": [
        "train_prec =  []\n",
        "eval_prec = []\n",
        "max_deep_list = list(range(3, 23))\n",
        "\n",
        "for deep in max_deep_list:\n",
        "    clf_3 = DecisionTreeClassifier(max_depth=deep, criterion='entropy')\n",
        "    clf_3.fit(x_train, y_train)\n",
        "    train_prec.append(clf_3.score(x_train, y_train))\n",
        "    eval_prec.append(clf_3.score(x_test, y_test))\n",
        "\n",
        "plt.figure(figsize=(12,7))\n",
        "plt.plot(max_deep_list, train_prec, color='r', label='Set de entrenamiento')\n",
        "plt.plot(max_deep_list, eval_prec, color='b', label='Set de testeo')\n",
        "plt.title('Gráfico de ajuste del árbol de decision', fontsize = 15)\n",
        "plt.legend()\n",
        "plt.ylabel('Precisión')\n",
        "plt.xlabel('Profundidad')\n",
        "plt.show()"
      ]
    },
    {
      "cell_type": "markdown",
      "metadata": {
        "id": "rmUnt_bYEUZX"
      },
      "source": [
        "## Modelo Regresión Logística"
      ]
    },
    {
      "cell_type": "code",
      "execution_count": null,
      "metadata": {
        "id": "rhsPMA8UTrGH"
      },
      "outputs": [],
      "source": [
        "log_clf = LogisticRegression()"
      ]
    },
    {
      "cell_type": "code",
      "execution_count": null,
      "metadata": {
        "colab": {
          "base_uri": "https://localhost:8080/"
        },
        "id": "-03BXVHbT3iB",
        "outputId": "6e8680db-fa91-4c8c-dc03-39d80fab6148"
      },
      "outputs": [
        {
          "data": {
            "text/plain": [
              "LogisticRegression()"
            ]
          },
          "execution_count": 32,
          "metadata": {},
          "output_type": "execute_result"
        }
      ],
      "source": [
        "log_clf.fit(x_train, y_train)"
      ]
    },
    {
      "cell_type": "code",
      "execution_count": null,
      "metadata": {
        "id": "vXq-omCET8qW"
      },
      "outputs": [],
      "source": [
        "y_pred = log_clf.predict(x_test)"
      ]
    },
    {
      "cell_type": "code",
      "execution_count": null,
      "metadata": {
        "colab": {
          "base_uri": "https://localhost:8080/"
        },
        "id": "_oIRuOcMUCQZ",
        "outputId": "f74c50ff-95f5-4e4a-d3f0-d20e88fff1fd"
      },
      "outputs": [
        {
          "name": "stdout",
          "output_type": "stream",
          "text": [
            "Accuracy on training set: 0.590\n",
            "Accuracy on test set: 0.589\n"
          ]
        }
      ],
      "source": [
        "print(\"Accuracy on training set: {:.3f}\".format(log_clf.score(x_train, y_train)))\n",
        "print(\"Accuracy on test set: {:.3f}\".format(log_clf.score(x_test, y_test)))"
      ]
    },
    {
      "cell_type": "code",
      "execution_count": null,
      "metadata": {
        "colab": {
          "base_uri": "https://localhost:8080/"
        },
        "id": "P4bWFXELUPPZ",
        "outputId": "878071bf-f163-44cf-9db7-66ef1de4a648"
      },
      "outputs": [
        {
          "name": "stdout",
          "output_type": "stream",
          "text": [
            "0.5893048780487805\n",
            "[0.26588942 0.78552394]\n",
            "              precision    recall  f1-score   support\n",
            "\n",
            "           0       0.43      0.27      0.33     30964\n",
            "           1       0.64      0.79      0.70     51036\n",
            "\n",
            "    accuracy                           0.59     82000\n",
            "   macro avg       0.53      0.53      0.52     82000\n",
            "weighted avg       0.56      0.59      0.56     82000\n",
            "\n"
          ]
        }
      ],
      "source": [
        "print(accuracy_score(y_test, y_pred))\n",
        "print(recall_score(y_test, y_pred, average= None))\n",
        "print(classification_report(y_test, y_pred))"
      ]
    },
    {
      "cell_type": "code",
      "execution_count": null,
      "metadata": {
        "id": "La3l1F9gcan_"
      },
      "outputs": [],
      "source": [
        "#from sklearn.feature_selection import f_regression "
      ]
    },
    {
      "cell_type": "code",
      "execution_count": null,
      "metadata": {
        "id": "RBQNn1ayciCw"
      },
      "outputs": [],
      "source": [
        "x = df_x2[df_x2.columns[1:].tolist()]\n",
        "f_stats_values = f_regression(x,y)[0]\n",
        "p_values = f_regression(x,y)[1] #para obter somente os p_values\n",
        "\n",
        "f_regression_df = pd.DataFrame({'Feature':df_x2.columns[1:].tolist(),\n",
        "                                'f_statistic' : f_stats_values,\n",
        "                                'p_values':p_values\n",
        "                               })\n",
        "\n",
        "f_regression_df"
      ]
    },
    {
      "cell_type": "code",
      "execution_count": null,
      "metadata": {
        "id": "y1uSCKjfEckY"
      },
      "outputs": [],
      "source": []
    },
    {
      "cell_type": "markdown",
      "metadata": {
        "id": "J5S1Yi8xEeyH"
      },
      "source": [
        "## Modelo XGBoost"
      ]
    },
    {
      "cell_type": "code",
      "execution_count": null,
      "metadata": {
        "id": "VRUH75Inf4jc"
      },
      "outputs": [],
      "source": [
        "#from xgboost import XGBClassifier"
      ]
    },
    {
      "cell_type": "code",
      "execution_count": null,
      "metadata": {
        "colab": {
          "base_uri": "https://localhost:8080/"
        },
        "id": "Io1vO63rf3jq",
        "outputId": "2a015a98-d040-48bf-9002-91b61f01c8fc"
      },
      "outputs": [
        {
          "data": {
            "text/plain": [
              "XGBClassifier()"
            ]
          },
          "execution_count": 79,
          "metadata": {},
          "output_type": "execute_result"
        }
      ],
      "source": [
        "model = XGBClassifier()\n",
        "model.fit(x_train, y_train)"
      ]
    },
    {
      "cell_type": "code",
      "execution_count": null,
      "metadata": {
        "id": "AG0EhQOjgMg8"
      },
      "outputs": [],
      "source": [
        "y_pred = model.predict(x_test)"
      ]
    },
    {
      "cell_type": "code",
      "execution_count": null,
      "metadata": {
        "colab": {
          "base_uri": "https://localhost:8080/"
        },
        "id": "w_DauFKTgUNC",
        "outputId": "535bb073-8765-4204-84b8-2644cd5c948b"
      },
      "outputs": [
        {
          "name": "stdout",
          "output_type": "stream",
          "text": [
            "Accuracy on training set: 0.712\n",
            "Accuracy on test set: 0.710\n"
          ]
        }
      ],
      "source": [
        "print(\"Accuracy on training set: {:.3f}\".format(model.score(x_train, y_train)))\n",
        "print(\"Accuracy on test set: {:.3f}\".format(model.score(x_test, y_test)))"
      ]
    },
    {
      "cell_type": "code",
      "execution_count": null,
      "metadata": {
        "colab": {
          "base_uri": "https://localhost:8080/"
        },
        "id": "A6187Fasgq_M",
        "outputId": "8b40a414-21b0-4ced-a531-6403c9f8a3dd"
      },
      "outputs": [
        {
          "name": "stdout",
          "output_type": "stream",
          "text": [
            "0.7096707317073171\n",
            "[0.41576034 0.88904599]\n",
            "              precision    recall  f1-score   support\n",
            "\n",
            "           0       0.70      0.42      0.52     31078\n",
            "           1       0.71      0.89      0.79     50922\n",
            "\n",
            "    accuracy                           0.71     82000\n",
            "   macro avg       0.70      0.65      0.66     82000\n",
            "weighted avg       0.71      0.71      0.69     82000\n",
            "\n"
          ]
        }
      ],
      "source": [
        "print(accuracy_score(y_test, y_pred))\n",
        "print(recall_score(y_test, y_pred, average= None))\n",
        "print(classification_report(y_test, y_pred))"
      ]
    },
    {
      "cell_type": "code",
      "execution_count": null,
      "metadata": {
        "id": "-1HAF7-GVqpH"
      },
      "outputs": [],
      "source": [
        "y_pred_tran = y_pred"
      ]
    },
    {
      "cell_type": "code",
      "execution_count": null,
      "metadata": {
        "colab": {
          "base_uri": "https://localhost:8080/"
        },
        "id": "sapfmnyYVu4Z",
        "outputId": "5afc6466-b378-4767-b092-da795d7d57e9"
      },
      "outputs": [
        {
          "data": {
            "text/plain": [
              "array([1, 1, 1, ..., 1, 1, 1])"
            ]
          },
          "execution_count": 85,
          "metadata": {},
          "output_type": "execute_result"
        }
      ],
      "source": [
        "y_pred_tran"
      ]
    },
    {
      "cell_type": "markdown",
      "metadata": {
        "id": "YT9CXruHZAyX"
      },
      "source": [
        "## Construyo Pipeline"
      ]
    },
    {
      "cell_type": "code",
      "execution_count": 24,
      "metadata": {
        "id": "mSK3dELOowHy"
      },
      "outputs": [],
      "source": [
        "#Pipeline para tratar las columnas categóricas y numéricas\n",
        "\n",
        "cat_steps = [('OHE', OneHotEncoder(drop='first', handle_unknown='ignore'))]\n",
        "\n",
        "pipe_cat = Pipeline(cat_steps)\n",
        "\n",
        "num_steps = [('scale', StandardScaler()) ]\n",
        "\n",
        "pipe_num = Pipeline(num_steps)"
      ]
    },
    {
      "cell_type": "code",
      "execution_count": 25,
      "metadata": {
        "id": "hsGGioQAowHz"
      },
      "outputs": [],
      "source": [
        "# Nombres de las variables categóricas\n",
        "categorical_vars = X.select_dtypes('category').columns.tolist()\n",
        "\n",
        "# Nombres de las variables numéricas\n",
        "numerical_vars = X.select_dtypes('number').columns.tolist()\n",
        "\n",
        "# Creando multilayer pipe\n",
        "one_pipe = ColumnTransformer(transformers=[\n",
        "          ('numbers', pipe_num, numerical_vars),\n",
        "          ('categories', pipe_cat, categorical_vars) ] )"
      ]
    },
    {
      "cell_type": "code",
      "execution_count": 26,
      "metadata": {
        "id": "Y8Z0I3ykowH0"
      },
      "outputs": [],
      "source": [
        "# Pipes para los modelos\n",
        "\n",
        "pipe_lr = Pipeline([('pre', one_pipe),\n",
        "\t\t\t('clf', LogisticRegression(random_state=42))])\n",
        "\n",
        "\n",
        "pipe_xgb = Pipeline([('pre', one_pipe ),\n",
        "\t\t\t('clf', XGBClassifier(random_state=42))])\n",
        "\t\t\t\n",
        "pipe_dt = Pipeline([('pre', one_pipe ),\n",
        "\t\t\t('clf', tree.DecisionTreeClassifier(random_state=42))])\n",
        "\n",
        "pipelines = [pipe_lr, pipe_xgb, pipe_dt]\n",
        "\n",
        "pipe_dict = {0: 'Regresión Logística', 1: 'XGB', 2: 'Árbol de decisión'}"
      ]
    },
    {
      "cell_type": "code",
      "execution_count": 27,
      "metadata": {
        "colab": {
          "base_uri": "https://localhost:8080/"
        },
        "id": "G2fjyzDjowH0",
        "outputId": "af80403c-bba6-4b02-b163-f918c4107022"
      },
      "outputs": [
        {
          "name": "stderr",
          "output_type": "stream",
          "text": [
            "/usr/local/lib/python3.8/dist-packages/sklearn/linear_model/_logistic.py:814: ConvergenceWarning: lbfgs failed to converge (status=1):\n",
            "STOP: TOTAL NO. of ITERATIONS REACHED LIMIT.\n",
            "\n",
            "Increase the number of iterations (max_iter) or scale the data as shown in:\n",
            "    https://scikit-learn.org/stable/modules/preprocessing.html\n",
            "Please also refer to the documentation for alternative solver options:\n",
            "    https://scikit-learn.org/stable/modules/linear_model.html#logistic-regression\n",
            "  n_iter_i = _check_optimize_result(\n"
          ]
        }
      ],
      "source": [
        "#Se entrena con cada modelo de la lista\n",
        "for pipe in pipelines:\n",
        "\tpipe.fit(x_train, y_train)"
      ]
    },
    {
      "cell_type": "code",
      "execution_count": 28,
      "metadata": {
        "colab": {
          "base_uri": "https://localhost:8080/"
        },
        "id": "fJmOl9ZsowH1",
        "outputId": "d4e9c85e-8ffa-427e-a563-788138daf476"
      },
      "outputs": [
        {
          "name": "stdout",
          "output_type": "stream",
          "text": [
            "Regresión Logística pipeline accuracy en test: 0.656\n",
            "XGB pipeline accuracy en test: 0.703\n",
            "Árbol de decisión pipeline accuracy en test: 0.700\n"
          ]
        }
      ],
      "source": [
        "#observando los resultados\n",
        "for idx, val in enumerate(pipelines):\n",
        "\tprint('%s pipeline accuracy en test: %.3f' % (pipe_dict[idx], val.score(x_test, y_test)))"
      ]
    },
    {
      "cell_type": "code",
      "execution_count": 29,
      "metadata": {
        "colab": {
          "base_uri": "https://localhost:8080/"
        },
        "id": "xU-l6sZ5owH3",
        "outputId": "f51cbb17-0158-4c2a-f882-db03c720e7b2"
      },
      "outputs": [
        {
          "name": "stdout",
          "output_type": "stream",
          "text": [
            "Modelo con el mejor accuracy: XGB\n"
          ]
        }
      ],
      "source": [
        "# Identificamos el mejor modelo para el set de testeo\n",
        "best_acc = 0.0\n",
        "best_clf = 0\n",
        "best_pipe = ''\n",
        "for idx, val in enumerate(pipelines):\n",
        "\tif val.score(x_test, y_test) > best_acc:\n",
        "\t\tbest_acc = val.score(x_test, y_test)\n",
        "\t\tbest_pipe = val\n",
        "\t\tbest_clf = idx\n",
        "print('Modelo con el mejor accuracy: %s' % pipe_dict[best_clf])"
      ]
    },
    {
      "cell_type": "code",
      "execution_count": 30,
      "metadata": {
        "id": "eikumFkjowH3"
      },
      "outputs": [],
      "source": [
        "y_pred = pipelines[best_clf].predict(x_test)"
      ]
    },
    {
      "cell_type": "code",
      "execution_count": 31,
      "metadata": {
        "colab": {
          "base_uri": "https://localhost:8080/"
        },
        "id": "iHmy_ez8owH4",
        "outputId": "c455950f-ec7b-40f8-b28b-246ced442530"
      },
      "outputs": [
        {
          "name": "stdout",
          "output_type": "stream",
          "text": [
            "0.7027073170731707\n",
            "[0.30353647 0.94099089]\n",
            "              precision    recall  f1-score   support\n",
            "\n",
            "           0       0.75      0.30      0.43     30652\n",
            "           1       0.69      0.94      0.80     51348\n",
            "\n",
            "    accuracy                           0.70     82000\n",
            "   macro avg       0.72      0.62      0.62     82000\n",
            "weighted avg       0.72      0.70      0.66     82000\n",
            "\n"
          ]
        }
      ],
      "source": [
        "print(accuracy_score(y_test, y_pred))\n",
        "print(recall_score(y_test, y_pred, average= None))\n",
        "print(classification_report(y_test, y_pred))"
      ]
    },
    {
      "cell_type": "code",
      "execution_count": 32,
      "metadata": {
        "colab": {
          "base_uri": "https://localhost:8080/"
        },
        "id": "LSMTS8dLowH4",
        "outputId": "f836e42b-b61e-4dcf-f1b7-975f171c1892"
      },
      "outputs": [
        {
          "data": {
            "text/plain": [
              "Pipeline(steps=[('pre',\n",
              "                 ColumnTransformer(transformers=[('numbers',\n",
              "                                                  Pipeline(steps=[('scale',\n",
              "                                                                   StandardScaler())]),\n",
              "                                                  ['admission_deposit']),\n",
              "                                                 ('categories',\n",
              "                                                  Pipeline(steps=[('OHE',\n",
              "                                                                   OneHotEncoder(drop='first',\n",
              "                                                                                 handle_unknown='ignore'))]),\n",
              "                                                  ['department', 'age',\n",
              "                                                   'gender',\n",
              "                                                   'type_of_admission',\n",
              "                                                   'severity_of_illness',\n",
              "                                                   'health_conditions',\n",
              "                                                   'insurance'])])),\n",
              "                ('clf', XGBClassifier(random_state=42))])"
            ]
          },
          "execution_count": 32,
          "metadata": {},
          "output_type": "execute_result"
        }
      ],
      "source": [
        "pipelines[best_clf]"
      ]
    },
    {
      "cell_type": "markdown",
      "metadata": {
        "id": "Fa7MftE5owH6"
      },
      "source": [
        "## Ajusto dataset de test con los cambios"
      ]
    },
    {
      "cell_type": "code",
      "execution_count": 33,
      "metadata": {
        "id": "PkhdohHDZHjU"
      },
      "outputs": [],
      "source": [
        "df_hos_t = pd.read_csv(\"./datasets/hospitalizaciones_test.csv\")"
      ]
    },
    {
      "cell_type": "code",
      "execution_count": 34,
      "metadata": {
        "id": "U0-SpLpwowH7"
      },
      "outputs": [],
      "source": [
        "df_hos_t.columns = [k.lower().replace(\" \", \"_\") for k in df_hos_t.columns]"
      ]
    },
    {
      "cell_type": "code",
      "execution_count": 35,
      "metadata": {
        "id": "jNxplPLsowH8"
      },
      "outputs": [],
      "source": [
        "df_hos_t[df_hos_t.select_dtypes(['object']).columns] = df_hos_t.select_dtypes(['object']).apply(lambda x: x.astype('category'))"
      ]
    },
    {
      "cell_type": "code",
      "execution_count": null,
      "metadata": {
        "id": "i0Yvk8-ZZRQP"
      },
      "outputs": [],
      "source": [
        "'''\n",
        "enc = OrdinalEncoder()\n",
        "valores = df_hos_t.age.values.reshape(-1,1)\n",
        "enc.fit(valores)\n",
        "valores_endcoded = enc.transform(valores)\n",
        "print( enc.categories_ )\n",
        "'''"
      ]
    },
    {
      "cell_type": "code",
      "execution_count": null,
      "metadata": {
        "id": "tLqoWqJ7am5z"
      },
      "outputs": [],
      "source": [
        "#df_hos_t['age_encoded'] = valores_endcoded[:,0]"
      ]
    },
    {
      "cell_type": "code",
      "execution_count": null,
      "metadata": {
        "id": "q_bjjFdAcpBE"
      },
      "outputs": [],
      "source": [
        "'''\n",
        "df_x2_t = df_hos_t[[\n",
        "    'dep_TB&Chest', 'dep_anesthesia', 'dep_radiotherapy', 'dep_surgery',\n",
        "    'age_encoded',\n",
        "    'gen_male', 'gen_female', 'gen_other',\n",
        "    'type_Emergency', 'type_Trauma', 'type_Urgent',\n",
        "    'sev_Extreme', 'sev_Minor', 'sev_Moderate',\n",
        "    'hcon_Asthama', 'hcon_Diabetes', 'hcon_Heart_disease', 'hcon_High_Blood_Pressure', 'hcon_None', 'hcon_Other',\n",
        "    'ins_no', 'ins_yes',\n",
        "    'Available Extra Rooms in Hospital','staff_available',\n",
        "    'Admission_Deposit',\n",
        "    ]]\n",
        "'''"
      ]
    },
    {
      "cell_type": "code",
      "execution_count": 37,
      "metadata": {
        "id": "ML6qV4yWrkyg"
      },
      "outputs": [],
      "source": [
        "df_x2_t = df_hos_t[['department', 'age', 'gender', 'type_of_admission', 'severity_of_illness', 'health_conditions', 'insurance', 'admission_deposit']]"
      ]
    },
    {
      "cell_type": "code",
      "execution_count": 39,
      "metadata": {
        "id": "MGYbmJGKc1N4"
      },
      "outputs": [],
      "source": [
        "#y_pred_test = model.predict(df_x2_t.values)\n",
        "#y_pred_test = pipelines[best_clf].predict(df_x2_t.values)\n",
        "y_pred_test = pipelines[best_clf].predict(df_x2_t)"
      ]
    },
    {
      "cell_type": "code",
      "execution_count": 40,
      "metadata": {
        "id": "HFv2ig3MjCV9"
      },
      "outputs": [],
      "source": [
        "df_pred = pd.DataFrame()\n",
        "df_pred['pred'] = y_pred_test"
      ]
    },
    {
      "cell_type": "code",
      "execution_count": 41,
      "metadata": {
        "id": "cTbe3kzCjNoe"
      },
      "outputs": [],
      "source": [
        "df_pred.to_csv('./odvallejos(1).csv', index=False)"
      ]
    }
  ],
  "metadata": {
    "colab": {
      "provenance": []
    },
    "kernelspec": {
      "display_name": "Python 3",
      "language": "python",
      "name": "python3"
    },
    "language_info": {
      "codemirror_mode": {
        "name": "ipython",
        "version": 3
      },
      "file_extension": ".py",
      "mimetype": "text/x-python",
      "name": "python",
      "nbconvert_exporter": "python",
      "pygments_lexer": "ipython3",
      "version": "3.8.5"
    },
    "vscode": {
      "interpreter": {
        "hash": "aadc960e2afc7ca7a2a72b871e11feb463c930330201b6369ec91ea194824c2e"
      }
    }
  },
  "nbformat": 4,
  "nbformat_minor": 0
}
