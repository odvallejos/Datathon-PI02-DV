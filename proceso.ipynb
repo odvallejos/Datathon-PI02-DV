{
  "cells": [
    {
      "cell_type": "code",
      "execution_count": null,
      "metadata": {
        "id": "F5HcgwfCsS5E"
      },
      "outputs": [],
      "source": []
    },
    {
      "cell_type": "markdown",
      "metadata": {
        "id": "n957zB3NsaKg"
      },
      "source": [
        "# **Datathon - Proyecto Individual 2**\n",
        "## Daniel Vallejos"
      ]
    },
    {
      "cell_type": "markdown",
      "metadata": {
        "id": "jgt6whXwsqvK"
      },
      "source": [
        "# **Estancia hospitalaria**\n",
        "Un importante Centro de Salud lo ha contratado con el fin de poder predecir si un paciente tendrá una estancia hospitalaria prolongada o no, utilizando la información contenida en el dataset asociado, la cual recaba una muestra histórica de sus pacientes, para poder administrar la demanda de camas en el hospital según la condición de los pacientes recientemente ingresados.\n",
        "\n",
        "Para esto, se define que un paciente posee estancia hospitalaria prolongada si ha estado hospitalizado más de 8 días. Por lo que debe generar dicha variable categórica y luego categorizar los pacientes según las variables que usted considere necesarias, justificando dicha elección.​"
      ]
    },
    {
      "cell_type": "markdown",
      "metadata": {
        "id": "r_qKWmEgt3sd"
      },
      "source": [
        "# **EDA - Análisis Exploratorio de los Datos**"
      ]
    },
    {
      "cell_type": "code",
      "execution_count": 51,
      "metadata": {
        "id": "LHVLh9fFdvey"
      },
      "outputs": [],
      "source": [
        "import pandas as pd\n",
        "import matplotlib.pyplot as plt\n",
        "import seaborn as sns\n",
        "from sklearn.preprocessing import OneHotEncoder\n",
        "\n",
        "from sklearn.linear_model import LogisticRegression\n",
        "from sklearn.tree import DecisionTreeClassifier\n",
        "from sklearn.ensemble import RandomForestClassifier\n",
        "from sklearn.ensemble import GradientBoostingClassifier\n",
        "from xgboost import XGBClassifier\n",
        "from sklearn.svm import SVC\n",
        "from sklearn.model_selection import train_test_split\n",
        "from sklearn.metrics import accuracy_score, precision_score, recall_score, f1_score\n",
        "from sklearn.metrics import classification_report, confusion_matrix\n",
        "from sklearn.preprocessing import StandardScaler"
      ]
    },
    {
      "cell_type": "code",
      "execution_count": 45,
      "metadata": {
        "id": "nJQhq_5FeM5d"
      },
      "outputs": [],
      "source": [
        "#df_hos = pd.read_csv(\"drive/MyDrive/datasets/hospitaciones_train_m.csv\")\n",
        "#df_hos = pd.read_csv(\"./hospitalizaciones_train.csv\")\n",
        "df_hos = pd.read_csv(\"./datasets/hospitalizaciones_train.csv\")"
      ]
    },
    {
      "cell_type": "code",
      "execution_count": null,
      "metadata": {
        "id": "All-Br8hu70y"
      },
      "outputs": [],
      "source": [
        "#Cantidad de registros y columnas\n",
        "df_hos.shape"
      ]
    },
    {
      "cell_type": "code",
      "execution_count": null,
      "metadata": {
        "id": "KGpRcwdLvGJa"
      },
      "outputs": [],
      "source": [
        "#Estructura del Dataframe\n",
        "df_hos.info()"
      ]
    },
    {
      "cell_type": "code",
      "execution_count": null,
      "metadata": {
        "id": "tKhBAWpEvS7f"
      },
      "outputs": [],
      "source": [
        "df_hos.head()"
      ]
    },
    {
      "cell_type": "code",
      "execution_count": null,
      "metadata": {
        "id": "mi_1Q7Ncvq4q"
      },
      "outputs": [],
      "source": [
        "#Función para analizar diferentes aspectos de un dataframe a nivel de estructura y datos\n",
        "def analyse_df(df, corr_limit = 0.75):\n",
        "    \"\"\"Analyse any dataframe and print results\n",
        "    * Muestra cantidad de filas y columnas, cantidad de filas duplicadas, tamaño, tipos de datos\n",
        "    * Chequea valores nulos\n",
        "    * Chequea la correlación entre columnas. Por defecto: 0.75 para definir si existe relación\n",
        "    \"\"\"   \n",
        "\n",
        "    print('Información General:')\n",
        "    print(f'{df.shape[0]} Rows {df.shape[1]} Columnas'\n",
        "          f'\\n{df.duplicated().sum()} Filas duplicadas'\n",
        "          f'\\nTamaño: {df.memory_usage().sum()/(1024*1024):.2f}Mb')\n",
        "    \n",
        "    # Chequeando Data Types\n",
        "    int_list, float_list,object_list,bool_list,other_list =[[] for i in range(5)]\n",
        "    for col in df.columns:\n",
        "        if df[col].dtype == 'int64':\n",
        "            int_list.append(col)\n",
        "        elif df[col].dtype == 'float64':\n",
        "            float_list.append(col)\n",
        "        elif df[col].dtype == 'object':\n",
        "            object_list.append(col)\n",
        "        elif df[col].dtype == 'boolean':\n",
        "            bool_list.append(col)\n",
        "        else:\n",
        "            other_list.append(col)\n",
        "            \n",
        "    for type_list,data_type in zip([int_list, float_list,object_list,bool_list,other_list],\n",
        "                                   ['int64','float64','object','boolean','other']):\n",
        "        if len(type_list)>0:\n",
        "            print(f'\\nColumns {data_type}: {type_list}')\n",
        "            \n",
        "    # Info General\n",
        "    display(df.describe())\n",
        "    \n",
        "    # Chequeando valores nulos\n",
        "    print('\\nChequeando valores nulos:')\n",
        "    col_with_missing_counter = 0\n",
        "    for col in df.columns:\n",
        "        qnt_missing = df[col].isna().sum()\n",
        "        if qnt_missing > 0:\n",
        "            col_with_missing_counter +=1\n",
        "            print(f'La columna \"{col}\" tiene {qnt_missing} nulos ({qnt_missing/df.shape[0]:.2%})')\n",
        "    if col_with_missing_counter ==0 :\n",
        "        print('El DataFrame no tiene nulos')\n",
        "        \n",
        "    # Chequeando la correlación lineal entre columnas\n",
        "    print('\\nChequeando la Correlation:')\n",
        "    df_corr = df.corr() \n",
        "    ckecked_list =[] \n",
        "    cols_with_correlation_counter = 0\n",
        "    for col in df_corr.columns:\n",
        "        ckecked_list.append(col)\n",
        "        for i in range(len(df_corr)):\n",
        "            if ((df_corr[col][i] > corr_limit or df_corr[col][i] < -corr_limit) and\n",
        "                (df_corr.index[i] not in ckecked_list)):\n",
        "                cols_with_correlation_counter += 1\n",
        "                print(f'Se encontró correlación entre las columnas '\n",
        "                      f'{df_corr.index[i]} and {col} -> Pearson coef. = {df_corr[col][i]:.2f}')         \n",
        "    if cols_with_correlation_counter == 0:\n",
        "        print('No se encontró correlación')"
      ]
    },
    {
      "cell_type": "code",
      "execution_count": null,
      "metadata": {
        "id": "tLL4Fkt_xXR7"
      },
      "outputs": [],
      "source": [
        "analyse_df(df_hos)"
      ]
    },
    {
      "cell_type": "markdown",
      "metadata": {
        "id": "soHy6jwNygVs"
      },
      "source": [
        "**Analizando las columnas**: las siguientes columnas se van a descartar\n",
        "\n",
        "\n",
        "*   La columna: Ward_Facility_Code, número de habitación, no es representativa para este modelo, por sentido común.\n",
        "*   La columna: Available Extra Rooms in Hospital, cantidad de habitaciones extras, no es representativa para este modelo.\n",
        "*   La columna: staff_available, personal disponible, no es representativa para este modelo.\n",
        "*   La columna: patientid, ID del paciente, no es representativa para este modelo por sentido común.\n",
        "*   La columna: Visitors with Patient, cantidad de personas que visitaron al paciente, no es representativa para este modelo por sentido común, es un dato que se va alimentando con el paso del tiempo y no al ingreso.\n"
      ]
    },
    {
      "cell_type": "code",
      "execution_count": null,
      "metadata": {
        "id": "d6ANLoUPyfZL"
      },
      "outputs": [],
      "source": []
    },
    {
      "cell_type": "code",
      "execution_count": null,
      "metadata": {
        "id": "SnSq-mZ1yQRN"
      },
      "outputs": [],
      "source": [
        "#df_hos.doctor_name.value_counts()\n",
        "#df_hos.Age.value_counts()\n",
        "#df_hos.gender.value_counts()\n",
        "#df_hos['Type of Admission'].value_counts()\n",
        "#df_hos['Severity of Illness'].value_counts()\n",
        "#df_hos.health_conditions.value_counts()\n",
        "#df_hos.Insurance.value_counts()\n",
        "df_hos.Department.value_counts()"
      ]
    },
    {
      "cell_type": "code",
      "execution_count": null,
      "metadata": {
        "id": "x6JcLKJD1dtK"
      },
      "outputs": [],
      "source": []
    },
    {
      "cell_type": "markdown",
      "metadata": {
        "id": "wv1D2qbe1eg3"
      },
      "source": [
        "# **Transformación de Datos**\n",
        "Se realiza adecuación de los datos para luego poder utilizarlos en el modelo"
      ]
    },
    {
      "cell_type": "code",
      "execution_count": 46,
      "metadata": {
        "id": "z8F6eoeReTrr"
      },
      "outputs": [],
      "source": [
        "#Creo que la columna target: asigno valor 1 a todos los registros que tienen más de 8 en el el campo Stay (in days)\n",
        "df_hos['EHP'] = df_hos['Stay (in days)'].apply(lambda x: 1 if x > 8 else 0 )"
      ]
    },
    {
      "cell_type": "code",
      "execution_count": null,
      "metadata": {
        "id": "R0FL-BARQK3A"
      },
      "outputs": [],
      "source": [
        "df_hos.drop(columns=['age_0_10', 'age_11_20', 'age_21_30', 'age_31_40', 'age_41_50', 'age_51_60', 'age_61_70', 'age_71_80', 'age_81_90', 'age_91_100'], inplace=True)"
      ]
    },
    {
      "cell_type": "code",
      "execution_count": 47,
      "metadata": {
        "id": "SbEKf_yTRIl7"
      },
      "outputs": [],
      "source": [
        "from sklearn.preprocessing import OrdinalEncoder"
      ]
    },
    {
      "cell_type": "code",
      "execution_count": 48,
      "metadata": {
        "colab": {
          "base_uri": "https://localhost:8080/"
        },
        "id": "Rhi08tJHRPOA",
        "outputId": "ad1e824b-eda4-4687-993f-01c2a51a5cac"
      },
      "outputs": [
        {
          "name": "stdout",
          "output_type": "stream",
          "text": [
            "[array(['0-10', '11-20', '21-30', '31-40', '41-50', '51-60', '61-70',\n",
            "       '71-80', '81-90', '91-100'], dtype=object)]\n"
          ]
        }
      ],
      "source": [
        "#Creo una nueva columna para el rango de edades utilizando OrdinalEncoder\n",
        "enc = OrdinalEncoder()\n",
        "valores = df_hos.Age.values.reshape(-1,1)\n",
        "enc.fit(valores)\n",
        "valores_endcoded = enc.transform(valores)\n",
        "print( enc.categories_ )"
      ]
    },
    {
      "cell_type": "code",
      "execution_count": 49,
      "metadata": {
        "id": "WdpTDt0yRrYK"
      },
      "outputs": [],
      "source": [
        "df_hos['age_encoded'] = valores_endcoded[:,0]"
      ]
    },
    {
      "cell_type": "code",
      "execution_count": 62,
      "metadata": {
        "colab": {
          "base_uri": "https://localhost:8080/"
        },
        "id": "4xuBJq8D2QH1",
        "outputId": "ec636674-58ca-4852-f3c2-acfe8b942522"
      },
      "outputs": [
        {
          "name": "stdout",
          "output_type": "stream",
          "text": [
            "[array(['No', 'Yes'], dtype=object)]\n"
          ]
        }
      ],
      "source": [
        "enc = OneHotEncoder(sparse=False)\n",
        "#valores = df_hos.Department.values.reshape(-1,1)\n",
        "##valores = df_hos.doctor_name.values.reshape(-1,1)\n",
        "#valores = df_hos.gender.values.reshape(-1,1)\n",
        "#valores = df_hos['Type of Admission'].values.reshape(-1,1)\n",
        "#valores = df_hos['Severity of Illness'].values.reshape(-1,1)\n",
        "#valores = df_hos.health_conditions.values.reshape(-1,1)\n",
        "valores = df_hos.Insurance.values.reshape(-1,1)\n",
        "enc.fit(valores)\n",
        "valores_endcoded = enc.transform(valores)\n",
        "print( enc.categories_ )"
      ]
    },
    {
      "cell_type": "code",
      "execution_count": 63,
      "metadata": {
        "id": "E8gObAZY2Xrk"
      },
      "outputs": [],
      "source": [
        "df_hos['ins_no'] = valores_endcoded[:,0]\n",
        "df_hos['ins_yes'] = valores_endcoded[:,1]"
      ]
    },
    {
      "cell_type": "code",
      "execution_count": 61,
      "metadata": {
        "id": "5MAyNCic2Zb1"
      },
      "outputs": [],
      "source": [
        "df_hos['hcon_Asthama'] = valores_endcoded[:,0]\n",
        "df_hos['hcon_Diabetes'] = valores_endcoded[:,1]\n",
        "df_hos['hcon_Heart_disease'] = valores_endcoded[:,2]\n",
        "df_hos['hcon_High_Blood_Pressure'] = valores_endcoded[:,3]\n",
        "df_hos['hcon_None'] = valores_endcoded[:,4]\n",
        "df_hos['hcon_Other'] = valores_endcoded[:,5]"
      ]
    },
    {
      "cell_type": "code",
      "execution_count": 59,
      "metadata": {
        "id": "XXHVwe-C2bJJ"
      },
      "outputs": [],
      "source": [
        "df_hos['sev_Extreme'] = valores_endcoded[:,0]\n",
        "df_hos['sev_Minor'] = valores_endcoded[:,1]\n",
        "df_hos['sev_Moderate'] = valores_endcoded[:,2]"
      ]
    },
    {
      "cell_type": "code",
      "execution_count": 57,
      "metadata": {
        "id": "gvjsBMyD2dPK"
      },
      "outputs": [],
      "source": [
        "df_hos['type_Emergency'] = valores_endcoded[:,0]\n",
        "df_hos['type_Trauma'] = valores_endcoded[:,1]\n",
        "df_hos['type_Urgent'] = valores_endcoded[:,2]"
      ]
    },
    {
      "cell_type": "code",
      "execution_count": 55,
      "metadata": {
        "id": "-ZAL0Ist2fF5"
      },
      "outputs": [],
      "source": [
        "df_hos['gen_male'] = valores_endcoded[:,0]\n",
        "df_hos['gen_female'] = valores_endcoded[:,1]\n",
        "df_hos['gen_other'] = valores_endcoded[:,2]"
      ]
    },
    {
      "cell_type": "code",
      "execution_count": 53,
      "metadata": {
        "id": "fvfkBBz02hvG"
      },
      "outputs": [],
      "source": [
        "df_hos['dep_TB&Chest'] = valores_endcoded[:,0]\n",
        "df_hos['dep_anesthesia'] = valores_endcoded[:,1]\n",
        "df_hos['dep_gynecology'] = valores_endcoded[:,2]\n",
        "df_hos['dep_radiotherapy'] = valores_endcoded[:,3]\n",
        "df_hos['dep_surgery'] = valores_endcoded[:,4]"
      ]
    },
    {
      "cell_type": "code",
      "execution_count": null,
      "metadata": {
        "id": "I_VGvF3m2j0R"
      },
      "outputs": [],
      "source": [
        "df_hos['dn_Isaac'] = valores_endcoded[:,0]\n",
        "df_hos['dn_John'] = valores_endcoded[:,1]\n",
        "df_hos['dn_Mark'] = valores_endcoded[:,2]\n",
        "df_hos['dn_Nathan'] = valores_endcoded[:,3]\n",
        "df_hos['dn_Olivia'] = valores_endcoded[:,4]\n",
        "df_hos['dn_Sam'] = valores_endcoded[:,5]\n",
        "df_hos['dn_Sarah'] = valores_endcoded[:,6]\n",
        "df_hos['dn_Simon'] = valores_endcoded[:,7]\n",
        "df_hos['dn_Sophia'] = valores_endcoded[:,8]"
      ]
    },
    {
      "cell_type": "code",
      "execution_count": null,
      "metadata": {
        "id": "NEm_P0Lj2nVu"
      },
      "outputs": [],
      "source": [
        "df_hos.columns"
      ]
    },
    {
      "cell_type": "code",
      "execution_count": null,
      "metadata": {
        "colab": {
          "base_uri": "https://localhost:8080/",
          "height": 1000
        },
        "id": "L_YHLB5u3mNm",
        "outputId": "cb1ace14-aea3-4022-c5fa-e1119ecddb94"
      },
      "outputs": [
        {
          "data": {
            "image/png": "[encoded data removed]",
            "text/plain": [
              "<Figure size 1440x1440 with 2 Axes>"
            ]
          },
          "metadata": {
            "needs_background": "light"
          },
          "output_type": "display_data"
        }
      ],
      "source": [
        "fig, ax = plt.subplots(figsize=(20,20))\n",
        "corr = df_x2.corr()\n",
        "sns.heatmap(corr, \n",
        "        xticklabels=corr.columns,\n",
        "        yticklabels=corr.columns,\n",
        "        annot=True,\n",
        "        ax=ax);"
      ]
    },
    {
      "cell_type": "code",
      "execution_count": null,
      "metadata": {
        "id": "X9IJQEjygEY8"
      },
      "outputs": [],
      "source": [
        "df_ss = df_hos.sample(frac=0.1, replace=True, random_state=1)"
      ]
    },
    {
      "cell_type": "code",
      "execution_count": null,
      "metadata": {
        "id": "42_QXjvq-TME"
      },
      "outputs": [],
      "source": [
        "df_hos = df_ss.copy()"
      ]
    },
    {
      "cell_type": "code",
      "execution_count": null,
      "metadata": {
        "id": "bYGkESX5-YTV"
      },
      "outputs": [],
      "source": [
        "df_ho"
      ]
    },
    {
      "cell_type": "code",
      "execution_count": 64,
      "metadata": {
        "colab": {
          "base_uri": "https://localhost:8080/"
        },
        "id": "YoyvnKDZ-DaJ",
        "outputId": "9a67fe9d-0d15-4a0b-93e9-684a33a75f0e"
      },
      "outputs": [
        {
          "data": {
            "text/plain": [
              "(410000, 39)"
            ]
          },
          "execution_count": 64,
          "metadata": {},
          "output_type": "execute_result"
        }
      ],
      "source": [
        "df_hos.shape"
      ]
    },
    {
      "cell_type": "code",
      "execution_count": null,
      "metadata": {
        "colab": {
          "base_uri": "https://localhost:8080/",
          "height": 438
        },
        "id": "FJVJ9T4rTAce",
        "outputId": "b067e51c-9d15-4300-d3e2-fcff194a0c50"
      },
      "outputs": [
        {
          "data": {
            "text/html": [
              "\n",
              "  <div id=\"df-4e515f3f-3626-40ae-af4c-a3c5dd2bd966\">\n",
              "    <div class=\"colab-df-container\">\n",
              "      <div>\n",
              "<style scoped>\n",
              "    .dataframe tbody tr th:only-of-type {\n",
              "        vertical-align: middle;\n",
              "    }\n",
              "\n",
              "    .dataframe tbody tr th {\n",
              "        vertical-align: top;\n",
              "    }\n",
              "\n",
              "    .dataframe thead th {\n",
              "        text-align: right;\n",
              "    }\n",
              "</style>\n",
              "<table border=\"1\" class=\"dataframe\">\n",
              "  <thead>\n",
              "    <tr style=\"text-align: right;\">\n",
              "      <th></th>\n",
              "      <th>Unnamed: 0</th>\n",
              "      <th>Available Extra Rooms in Hospital</th>\n",
              "      <th>Department</th>\n",
              "      <th>Ward_Facility_Code</th>\n",
              "      <th>doctor_name</th>\n",
              "      <th>staff_available</th>\n",
              "      <th>patientid</th>\n",
              "      <th>Age</th>\n",
              "      <th>gender</th>\n",
              "      <th>Type of Admission</th>\n",
              "      <th>...</th>\n",
              "      <th>sev_Minor</th>\n",
              "      <th>sev_Moderate</th>\n",
              "      <th>hcon_Asthama</th>\n",
              "      <th>hcon_Diabetes</th>\n",
              "      <th>hcon_Heart_disease</th>\n",
              "      <th>hcon_High_Blood_Pressure</th>\n",
              "      <th>hcon_None</th>\n",
              "      <th>hcon_Other</th>\n",
              "      <th>ins_no</th>\n",
              "      <th>ins_yes</th>\n",
              "    </tr>\n",
              "  </thead>\n",
              "  <tbody>\n",
              "    <tr>\n",
              "      <th>0</th>\n",
              "      <td>0</td>\n",
              "      <td>4</td>\n",
              "      <td>gynecology</td>\n",
              "      <td>D</td>\n",
              "      <td>Dr Sophia</td>\n",
              "      <td>0</td>\n",
              "      <td>33070</td>\n",
              "      <td>41-50</td>\n",
              "      <td>Female</td>\n",
              "      <td>Trauma</td>\n",
              "      <td>...</td>\n",
              "      <td>0.0</td>\n",
              "      <td>0.0</td>\n",
              "      <td>0.0</td>\n",
              "      <td>1.0</td>\n",
              "      <td>0.0</td>\n",
              "      <td>0.0</td>\n",
              "      <td>0.0</td>\n",
              "      <td>0.0</td>\n",
              "      <td>0.0</td>\n",
              "      <td>1.0</td>\n",
              "    </tr>\n",
              "    <tr>\n",
              "      <th>1</th>\n",
              "      <td>1</td>\n",
              "      <td>4</td>\n",
              "      <td>gynecology</td>\n",
              "      <td>B</td>\n",
              "      <td>Dr Sophia</td>\n",
              "      <td>2</td>\n",
              "      <td>34808</td>\n",
              "      <td>31-40</td>\n",
              "      <td>Female</td>\n",
              "      <td>Trauma</td>\n",
              "      <td>...</td>\n",
              "      <td>1.0</td>\n",
              "      <td>0.0</td>\n",
              "      <td>0.0</td>\n",
              "      <td>0.0</td>\n",
              "      <td>1.0</td>\n",
              "      <td>0.0</td>\n",
              "      <td>0.0</td>\n",
              "      <td>0.0</td>\n",
              "      <td>1.0</td>\n",
              "      <td>0.0</td>\n",
              "    </tr>\n",
              "    <tr>\n",
              "      <th>2</th>\n",
              "      <td>2</td>\n",
              "      <td>2</td>\n",
              "      <td>gynecology</td>\n",
              "      <td>B</td>\n",
              "      <td>Dr Sophia</td>\n",
              "      <td>8</td>\n",
              "      <td>44577</td>\n",
              "      <td>21-30</td>\n",
              "      <td>Female</td>\n",
              "      <td>Trauma</td>\n",
              "      <td>...</td>\n",
              "      <td>0.0</td>\n",
              "      <td>0.0</td>\n",
              "      <td>0.0</td>\n",
              "      <td>1.0</td>\n",
              "      <td>0.0</td>\n",
              "      <td>0.0</td>\n",
              "      <td>0.0</td>\n",
              "      <td>0.0</td>\n",
              "      <td>0.0</td>\n",
              "      <td>1.0</td>\n",
              "    </tr>\n",
              "    <tr>\n",
              "      <th>3</th>\n",
              "      <td>3</td>\n",
              "      <td>4</td>\n",
              "      <td>gynecology</td>\n",
              "      <td>D</td>\n",
              "      <td>Dr Olivia</td>\n",
              "      <td>7</td>\n",
              "      <td>3695</td>\n",
              "      <td>31-40</td>\n",
              "      <td>Female</td>\n",
              "      <td>Urgent</td>\n",
              "      <td>...</td>\n",
              "      <td>0.0</td>\n",
              "      <td>1.0</td>\n",
              "      <td>0.0</td>\n",
              "      <td>0.0</td>\n",
              "      <td>0.0</td>\n",
              "      <td>0.0</td>\n",
              "      <td>1.0</td>\n",
              "      <td>0.0</td>\n",
              "      <td>1.0</td>\n",
              "      <td>0.0</td>\n",
              "    </tr>\n",
              "    <tr>\n",
              "      <th>4</th>\n",
              "      <td>4</td>\n",
              "      <td>2</td>\n",
              "      <td>anesthesia</td>\n",
              "      <td>E</td>\n",
              "      <td>Dr Mark</td>\n",
              "      <td>10</td>\n",
              "      <td>108956</td>\n",
              "      <td>71-80</td>\n",
              "      <td>Male</td>\n",
              "      <td>Trauma</td>\n",
              "      <td>...</td>\n",
              "      <td>0.0</td>\n",
              "      <td>1.0</td>\n",
              "      <td>0.0</td>\n",
              "      <td>1.0</td>\n",
              "      <td>0.0</td>\n",
              "      <td>0.0</td>\n",
              "      <td>0.0</td>\n",
              "      <td>0.0</td>\n",
              "      <td>1.0</td>\n",
              "      <td>0.0</td>\n",
              "    </tr>\n",
              "  </tbody>\n",
              "</table>\n",
              "<p>5 rows × 39 columns</p>\n",
              "</div>\n",
              "      <button class=\"colab-df-convert\" onclick=\"convertToInteractive('df-4e515f3f-3626-40ae-af4c-a3c5dd2bd966')\"\n",
              "              title=\"Convert this dataframe to an interactive table.\"\n",
              "              style=\"display:none;\">\n",
              "        \n",
              "  <svg xmlns=\"http://www.w3.org/2000/svg\" height=\"24px\"viewBox=\"0 0 24 24\"\n",
              "       width=\"24px\">\n",
              "    <path d=\"M0 0h24v24H0V0z\" fill=\"none\"/>\n",
              "    <path d=\"M18.56 5.44l.94 2.06.94-2.06 2.06-.94-2.06-.94-.94-2.06-.94 2.06-2.06.94zm-11 1L8.5 8.5l.94-2.06 2.06-.94-2.06-.94L8.5 2.5l-.94 2.06-2.06.94zm10 10l.94 2.06.94-2.06 2.06-.94-2.06-.94-.94-2.06-.94 2.06-2.06.94z\"/><path d=\"M17.41 7.96l-1.37-1.37c-.4-.4-.92-.59-1.43-.59-.52 0-1.04.2-1.43.59L10.3 9.45l-7.72 7.72c-.78.78-.78 2.05 0 2.83L4 21.41c.39.39.9.59 1.41.59.51 0 1.02-.2 1.41-.59l7.78-7.78 2.81-2.81c.8-.78.8-2.07 0-2.86zM5.41 20L4 18.59l7.72-7.72 1.47 1.35L5.41 20z\"/>\n",
              "  </svg>\n",
              "      </button>\n",
              "      \n",
              "  <style>\n",
              "    .colab-df-container {\n",
              "      display:flex;\n",
              "      flex-wrap:wrap;\n",
              "      gap: 12px;\n",
              "    }\n",
              "\n",
              "    .colab-df-convert {\n",
              "      background-color: #E8F0FE;\n",
              "      border: none;\n",
              "      border-radius: 50%;\n",
              "      cursor: pointer;\n",
              "      display: none;\n",
              "      fill: #1967D2;\n",
              "      height: 32px;\n",
              "      padding: 0 0 0 0;\n",
              "      width: 32px;\n",
              "    }\n",
              "\n",
              "    .colab-df-convert:hover {\n",
              "      background-color: #E2EBFA;\n",
              "      box-shadow: 0px 1px 2px rgba(60, 64, 67, 0.3), 0px 1px 3px 1px rgba(60, 64, 67, 0.15);\n",
              "      fill: #174EA6;\n",
              "    }\n",
              "\n",
              "    [theme=dark] .colab-df-convert {\n",
              "      background-color: #3B4455;\n",
              "      fill: #D2E3FC;\n",
              "    }\n",
              "\n",
              "    [theme=dark] .colab-df-convert:hover {\n",
              "      background-color: #434B5C;\n",
              "      box-shadow: 0px 1px 3px 1px rgba(0, 0, 0, 0.15);\n",
              "      filter: drop-shadow(0px 1px 2px rgba(0, 0, 0, 0.3));\n",
              "      fill: #FFFFFF;\n",
              "    }\n",
              "  </style>\n",
              "\n",
              "      <script>\n",
              "        const buttonEl =\n",
              "          document.querySelector('#df-4e515f3f-3626-40ae-af4c-a3c5dd2bd966 button.colab-df-convert');\n",
              "        buttonEl.style.display =\n",
              "          google.colab.kernel.accessAllowed ? 'block' : 'none';\n",
              "\n",
              "        async function convertToInteractive(key) {\n",
              "          const element = document.querySelector('#df-4e515f3f-3626-40ae-af4c-a3c5dd2bd966');\n",
              "          const dataTable =\n",
              "            await google.colab.kernel.invokeFunction('convertToInteractive',\n",
              "                                                     [key], {});\n",
              "          if (!dataTable) return;\n",
              "\n",
              "          const docLinkHtml = 'Like what you see? Visit the ' +\n",
              "            '<a target=\"_blank\" href=https://colab.research.google.com/notebooks/data_table.ipynb>data table notebook</a>'\n",
              "            + ' to learn more about interactive tables.';\n",
              "          element.innerHTML = '';\n",
              "          dataTable['output_type'] = 'display_data';\n",
              "          await google.colab.output.renderOutput(dataTable, element);\n",
              "          const docLink = document.createElement('div');\n",
              "          docLink.innerHTML = docLinkHtml;\n",
              "          element.appendChild(docLink);\n",
              "        }\n",
              "      </script>\n",
              "    </div>\n",
              "  </div>\n",
              "  "
            ],
            "text/plain": [
              "   Unnamed: 0  Available Extra Rooms in Hospital  Department  \\\n",
              "0           0                                  4  gynecology   \n",
              "1           1                                  4  gynecology   \n",
              "2           2                                  2  gynecology   \n",
              "3           3                                  4  gynecology   \n",
              "4           4                                  2  anesthesia   \n",
              "\n",
              "  Ward_Facility_Code doctor_name  staff_available  patientid    Age  gender  \\\n",
              "0                  D   Dr Sophia                0      33070  41-50  Female   \n",
              "1                  B   Dr Sophia                2      34808  31-40  Female   \n",
              "2                  B   Dr Sophia                8      44577  21-30  Female   \n",
              "3                  D   Dr Olivia                7       3695  31-40  Female   \n",
              "4                  E     Dr Mark               10     108956  71-80    Male   \n",
              "\n",
              "  Type of Admission  ... sev_Minor sev_Moderate  hcon_Asthama hcon_Diabetes  \\\n",
              "0            Trauma  ...       0.0          0.0           0.0           1.0   \n",
              "1            Trauma  ...       1.0          0.0           0.0           0.0   \n",
              "2            Trauma  ...       0.0          0.0           0.0           1.0   \n",
              "3            Urgent  ...       0.0          1.0           0.0           0.0   \n",
              "4            Trauma  ...       0.0          1.0           0.0           1.0   \n",
              "\n",
              "   hcon_Heart_disease  hcon_High_Blood_Pressure  hcon_None  hcon_Other  \\\n",
              "0                 0.0                       0.0        0.0         0.0   \n",
              "1                 1.0                       0.0        0.0         0.0   \n",
              "2                 0.0                       0.0        0.0         0.0   \n",
              "3                 0.0                       0.0        1.0         0.0   \n",
              "4                 0.0                       0.0        0.0         0.0   \n",
              "\n",
              "   ins_no  ins_yes  \n",
              "0     0.0      1.0  \n",
              "1     1.0      0.0  \n",
              "2     0.0      1.0  \n",
              "3     1.0      0.0  \n",
              "4     1.0      0.0  \n",
              "\n",
              "[5 rows x 39 columns]"
            ]
          },
          "execution_count": 21,
          "metadata": {},
          "output_type": "execute_result"
        }
      ],
      "source": [
        "df_hos.head()"
      ]
    },
    {
      "cell_type": "code",
      "execution_count": 65,
      "metadata": {
        "id": "N7i21mCMeZDf"
      },
      "outputs": [],
      "source": [
        "df_x2 = df_hos[[\n",
        "    'dep_TB&Chest', 'dep_anesthesia', 'dep_radiotherapy', 'dep_surgery',\n",
        "    'age_encoded',\n",
        "    'gen_male', 'gen_female', 'gen_other',\n",
        "    'type_Emergency', 'type_Trauma', 'type_Urgent',\n",
        "    'sev_Extreme', 'sev_Minor', 'sev_Moderate',\n",
        "    'hcon_Asthama', 'hcon_Diabetes', 'hcon_Heart_disease', 'hcon_High_Blood_Pressure', 'hcon_None', 'hcon_Other',\n",
        "    'ins_no', 'ins_yes',\n",
        "    'Available Extra Rooms in Hospital','staff_available',\n",
        "    'Admission_Deposit',\n",
        "    'EHP']]\n",
        "\n",
        "#    'Admission_Deposit',\n",
        "#    'dep_TB&Chest', 'dep_anesthesia', 'dep_gynecology', 'dep_radiotherapy', 'dep_surgery',\n",
        "#    'age_0_10', 'age_11_20', 'age_21_30', 'age_31_40', 'age_41_50', 'age_51_60', 'age_61_70', 'age_71_80', 'age_81_90', 'age_91_100',\n"
      ]
    },
    {
      "cell_type": "code",
      "execution_count": null,
      "metadata": {
        "id": "MTu8C2Gwd15X"
      },
      "outputs": [],
      "source": [
        "#df_x2 = df_hos[['dep_anesthesia', 'dep_surgery', 'age_encoded','gen_male','gen_female','gen_other','EHP']]"
      ]
    },
    {
      "cell_type": "markdown",
      "metadata": {
        "id": "uRHJ-sCnBqxu"
      },
      "source": [
        "# **Corriendo Modelos de ML**\n",
        "Se divide el set de datos en entrenamiento y test (20%)"
      ]
    },
    {
      "cell_type": "code",
      "execution_count": null,
      "metadata": {
        "id": "cy_dFYbcef8h"
      },
      "outputs": [],
      "source": [
        "from sklearn.linear_model import LogisticRegression\n",
        "from sklearn.tree import DecisionTreeClassifier\n",
        "from sklearn.ensemble import RandomForestClassifier\n",
        "from sklearn.ensemble import GradientBoostingClassifier\n",
        "from xgboost import XGBClassifier\n",
        "from sklearn.svm import SVC\n",
        "from sklearn.model_selection import train_test_split\n",
        "from sklearn.metrics import accuracy_score, precision_score, recall_score, f1_score\n",
        "from sklearn.metrics import classification_report, confusion_matrix\n",
        "from sklearn.preprocessing import StandardScaler"
      ]
    },
    {
      "cell_type": "code",
      "execution_count": 66,
      "metadata": {
        "id": "ALJZ4ObYekNO"
      },
      "outputs": [],
      "source": [
        "#Defino la columnas para las variables independientes y dependiente\n",
        "X = df_x2.drop(['EHP'], axis = 1 )\n",
        "y = df_hos['EHP']"
      ]
    },
    {
      "cell_type": "code",
      "execution_count": 67,
      "metadata": {
        "id": "ma6Ka-BweqmU"
      },
      "outputs": [],
      "source": [
        "#Split test del 20%\n",
        "x_train, x_test, y_train, y_test = train_test_split(X, y, test_size=0.2)"
      ]
    },
    {
      "cell_type": "code",
      "execution_count": 68,
      "metadata": {
        "id": "-jkdJM65emKt"
      },
      "outputs": [],
      "source": [
        "#Standarizo los valores usando StandardScaler\n",
        "from sklearn.preprocessing import StandardScaler\n",
        "sc_X = StandardScaler()\n",
        "x_train = sc_X.fit_transform(x_train)\n",
        "x_test = sc_X.transform(x_test)"
      ]
    },
    {
      "cell_type": "code",
      "execution_count": null,
      "metadata": {
        "id": "NzlzbfS5ezGz"
      },
      "outputs": [],
      "source": []
    },
    {
      "cell_type": "markdown",
      "metadata": {
        "id": "hvdKY0vgDseD"
      },
      "source": [
        "## Modelo: Arbol de Decisión"
      ]
    },
    {
      "cell_type": "code",
      "execution_count": 69,
      "metadata": {
        "id": "Bq_ZITSae1Tw"
      },
      "outputs": [],
      "source": [
        "clf = DecisionTreeClassifier(max_depth = 9, random_state = 42)"
      ]
    },
    {
      "cell_type": "code",
      "execution_count": 70,
      "metadata": {
        "colab": {
          "base_uri": "https://localhost:8080/"
        },
        "id": "xUGZuB3we4L2",
        "outputId": "cedebeea-4bd3-4db6-9411-55733119774b"
      },
      "outputs": [
        {
          "data": {
            "text/plain": [
              "DecisionTreeClassifier(max_depth=9, random_state=42)"
            ]
          },
          "execution_count": 70,
          "metadata": {},
          "output_type": "execute_result"
        }
      ],
      "source": [
        "clf.fit(x_train, y_train)"
      ]
    },
    {
      "cell_type": "code",
      "execution_count": 71,
      "metadata": {
        "colab": {
          "base_uri": "https://localhost:8080/"
        },
        "id": "kTDFRfyPghgP",
        "outputId": "16a76c5c-76e8-4490-8fd0-286f0fab87da"
      },
      "outputs": [
        {
          "name": "stdout",
          "output_type": "stream",
          "text": [
            "Accuracy on training set: 0.712\n",
            "Accuracy on test set: 0.712\n"
          ]
        }
      ],
      "source": [
        "print(\"Accuracy on training set: {:.3f}\".format(clf.score(x_train, y_train)))\n",
        "print(\"Accuracy on test set: {:.3f}\".format(clf.score(x_test, y_test)))"
      ]
    },
    {
      "cell_type": "code",
      "execution_count": 72,
      "metadata": {
        "id": "Sv7jpf2Xheb5"
      },
      "outputs": [],
      "source": [
        "y_pred = clf.predict(x_test)"
      ]
    },
    {
      "cell_type": "code",
      "execution_count": 73,
      "metadata": {
        "colab": {
          "base_uri": "https://localhost:8080/"
        },
        "id": "UEztMdF_g9Ev",
        "outputId": "7c4b5ef3-2ad5-46dc-a008-4edbd92847bd"
      },
      "outputs": [
        {
          "name": "stdout",
          "output_type": "stream",
          "text": [
            "              precision    recall  f1-score   support\n",
            "\n",
            "           0       0.71      0.40      0.51     31078\n",
            "           1       0.71      0.90      0.80     50922\n",
            "\n",
            "    accuracy                           0.71     82000\n",
            "   macro avg       0.71      0.65      0.65     82000\n",
            "weighted avg       0.71      0.71      0.69     82000\n",
            "\n"
          ]
        }
      ],
      "source": [
        "print(classification_report(y_test, y_pred))"
      ]
    },
    {
      "cell_type": "code",
      "execution_count": null,
      "metadata": {
        "id": "3q2SUG8ciDIA"
      },
      "outputs": [],
      "source": []
    },
    {
      "cell_type": "markdown",
      "metadata": {
        "id": "Gj5QUUmnD3MO"
      },
      "source": [
        "## Modelo Gradient Boosting"
      ]
    },
    {
      "cell_type": "code",
      "execution_count": 74,
      "metadata": {
        "colab": {
          "base_uri": "https://localhost:8080/"
        },
        "id": "SZyhY4Z-iGqA",
        "outputId": "af405d07-0c89-44e3-f7d9-961857d48239"
      },
      "outputs": [
        {
          "name": "stdout",
          "output_type": "stream",
          "text": [
            "Accuracy on training set: 0.718\n",
            "Accuracy on test set: 0.717\n"
          ]
        }
      ],
      "source": [
        "gb = GradientBoostingClassifier(random_state=0)\n",
        "gb.fit(x_train, y_train)\n",
        "print(\"Accuracy on training set: {:.3f}\".format(gb.score(x_train, y_train)))\n",
        "print(\"Accuracy on test set: {:.3f}\".format(gb.score(x_test, y_test)))"
      ]
    },
    {
      "cell_type": "code",
      "execution_count": 75,
      "metadata": {
        "id": "xIrHVzrpiU7a"
      },
      "outputs": [],
      "source": [
        "y_pred = gb.predict(x_test)"
      ]
    },
    {
      "cell_type": "code",
      "execution_count": 76,
      "metadata": {
        "colab": {
          "base_uri": "https://localhost:8080/"
        },
        "id": "MxRN0-M_ia_P",
        "outputId": "8007bb46-b594-4ed2-a083-95b27c24a402"
      },
      "outputs": [
        {
          "name": "stdout",
          "output_type": "stream",
          "text": [
            "              precision    recall  f1-score   support\n",
            "\n",
            "           0       0.70      0.44      0.54     31078\n",
            "           1       0.72      0.89      0.80     50922\n",
            "\n",
            "    accuracy                           0.72     82000\n",
            "   macro avg       0.71      0.66      0.67     82000\n",
            "weighted avg       0.71      0.72      0.70     82000\n",
            "\n"
          ]
        }
      ],
      "source": [
        "print(classification_report(y_test, y_pred))"
      ]
    },
    {
      "cell_type": "code",
      "execution_count": 77,
      "metadata": {
        "colab": {
          "base_uri": "https://localhost:8080/"
        },
        "id": "MsCEjctmils4",
        "outputId": "dd3c45ad-e697-459a-bb30-d4147b8b1635"
      },
      "outputs": [
        {
          "data": {
            "text/plain": [
              "0.7172804878048781"
            ]
          },
          "execution_count": 77,
          "metadata": {},
          "output_type": "execute_result"
        }
      ],
      "source": [
        "accuracy_score(y_test, y_pred)"
      ]
    },
    {
      "cell_type": "code",
      "execution_count": 78,
      "metadata": {
        "colab": {
          "base_uri": "https://localhost:8080/"
        },
        "id": "fg-wBVK2iwGM",
        "outputId": "5c470b47-4df7-4116-a771-b14eabdf1d6b"
      },
      "outputs": [
        {
          "data": {
            "text/plain": [
              "array([0.43867044, 0.88731786])"
            ]
          },
          "execution_count": 78,
          "metadata": {},
          "output_type": "execute_result"
        }
      ],
      "source": [
        "recall_score(y_test, y_pred, average= None)"
      ]
    },
    {
      "cell_type": "markdown",
      "metadata": {
        "id": "hCu4tnlhEG4j"
      },
      "source": [
        "## Modelo Random Forest"
      ]
    },
    {
      "cell_type": "code",
      "execution_count": null,
      "metadata": {
        "colab": {
          "base_uri": "https://localhost:8080/"
        },
        "id": "ARE-cmdLjRN2",
        "outputId": "1ad6b24d-1f65-44d9-873d-dd078319e53c"
      },
      "outputs": [
        {
          "name": "stdout",
          "output_type": "stream",
          "text": [
            "Accuracy on training set: 1.000\n",
            "Accuracy on test set: 0.729\n"
          ]
        }
      ],
      "source": [
        "rf = RandomForestClassifier(n_estimators=100, random_state=0)\n",
        "rf.fit(x_train, y_train)\n",
        "print(\"Accuracy on training set: {:.3f}\".format(rf.score(x_train, y_train)))\n",
        "print(\"Accuracy on test set: {:.3f}\".format(rf.score(x_test, y_test)))"
      ]
    },
    {
      "cell_type": "code",
      "execution_count": null,
      "metadata": {
        "id": "5EwZ34wljhqz"
      },
      "outputs": [],
      "source": [
        "y_pred = rf.predict(x_test)"
      ]
    },
    {
      "cell_type": "code",
      "execution_count": null,
      "metadata": {
        "colab": {
          "base_uri": "https://localhost:8080/"
        },
        "id": "odpZMlzRk7wt",
        "outputId": "ef27fba8-fac9-48f5-ad95-15e29f4c3928"
      },
      "outputs": [
        {
          "name": "stdout",
          "output_type": "stream",
          "text": [
            "0.7288658536585366\n",
            "[0.6326702  0.78722862]\n",
            "              precision    recall  f1-score   support\n",
            "\n",
            "           0       0.64      0.63      0.64     30964\n",
            "           1       0.78      0.79      0.78     51036\n",
            "\n",
            "    accuracy                           0.73     82000\n",
            "   macro avg       0.71      0.71      0.71     82000\n",
            "weighted avg       0.73      0.73      0.73     82000\n",
            "\n"
          ]
        }
      ],
      "source": [
        "print(accuracy_score(y_test, y_pred))\n",
        "print(recall_score(y_test, y_pred, average= None))\n",
        "print(classification_report(y_test, y_pred))"
      ]
    },
    {
      "cell_type": "markdown",
      "metadata": {
        "id": "DtI09MoFEMXF"
      },
      "source": [
        "## Modelo SVC"
      ]
    },
    {
      "cell_type": "code",
      "execution_count": null,
      "metadata": {
        "colab": {
          "base_uri": "https://localhost:8080/"
        },
        "id": "CZem_hJj_G_j",
        "outputId": "6567a9d0-ac5d-421e-d3c6-568cc4c6aecf"
      },
      "outputs": [
        {
          "data": {
            "text/plain": [
              "SVC(kernel='poly', random_state=0)"
            ]
          },
          "execution_count": 77,
          "metadata": {},
          "output_type": "execute_result"
        }
      ],
      "source": [
        "clf = SVC(kernel='poly', random_state=0)\n",
        "clf.fit(x_train, y_train)"
      ]
    },
    {
      "cell_type": "code",
      "execution_count": null,
      "metadata": {
        "colab": {
          "base_uri": "https://localhost:8080/"
        },
        "id": "8Lm_1-IXC-Xz",
        "outputId": "e22e960a-e07e-46f2-9db1-7aa16a53aa31"
      },
      "outputs": [
        {
          "name": "stdout",
          "output_type": "stream",
          "text": [
            "Accuracy on training set: 0.696\n",
            "Accuracy on test set: 0.683\n"
          ]
        }
      ],
      "source": [
        "print(\"Accuracy on training set: {:.3f}\".format(clf.score(x_train, y_train)))\n",
        "print(\"Accuracy on test set: {:.3f}\".format(clf.score(x_test, y_test)))"
      ]
    },
    {
      "cell_type": "code",
      "execution_count": null,
      "metadata": {
        "id": "PqxywcUiDPWm"
      },
      "outputs": [],
      "source": [
        "y_pred = clf.predict(x_test)"
      ]
    },
    {
      "cell_type": "code",
      "execution_count": null,
      "metadata": {
        "colab": {
          "base_uri": "https://localhost:8080/"
        },
        "id": "95eh9adTC5DG",
        "outputId": "a95c8952-e0b4-499a-90a7-1dfef1edb985"
      },
      "outputs": [
        {
          "name": "stdout",
          "output_type": "stream",
          "text": [
            "0.6826829268292683\n",
            "[0.24674055 0.94329696]\n",
            "              precision    recall  f1-score   support\n",
            "\n",
            "           0       0.72      0.25      0.37      3068\n",
            "           1       0.68      0.94      0.79      5132\n",
            "\n",
            "    accuracy                           0.68      8200\n",
            "   macro avg       0.70      0.60      0.58      8200\n",
            "weighted avg       0.69      0.68      0.63      8200\n",
            "\n"
          ]
        }
      ],
      "source": [
        "print(accuracy_score(y_test, y_pred))\n",
        "print(recall_score(y_test, y_pred, average= None))\n",
        "print(classification_report(y_test, y_pred))"
      ]
    },
    {
      "cell_type": "code",
      "execution_count": null,
      "metadata": {
        "colab": {
          "base_uri": "https://localhost:8080/",
          "height": 461
        },
        "id": "Z14oqb0-I_OU",
        "outputId": "bc5cc9d6-4a05-4988-da16-a9608668aa13"
      },
      "outputs": [
        {
          "data": {
            "image/png": "[encoded data removed]",
            "text/plain": [
              "<Figure size 864x504 with 1 Axes>"
            ]
          },
          "metadata": {
            "needs_background": "light"
          },
          "output_type": "display_data"
        }
      ],
      "source": [
        "train_prec =  []\n",
        "eval_prec = []\n",
        "max_deep_list = list(range(3, 23))\n",
        "\n",
        "for deep in max_deep_list:\n",
        "    clf_3 = DecisionTreeClassifier(max_depth=deep, criterion='entropy')\n",
        "    clf_3.fit(x_train, y_train)\n",
        "    train_prec.append(clf_3.score(x_train, y_train))\n",
        "    eval_prec.append(clf_3.score(x_test, y_test))\n",
        "\n",
        "plt.figure(figsize=(12,7))\n",
        "plt.plot(max_deep_list, train_prec, color='r', label='Set de entrenamiento')\n",
        "plt.plot(max_deep_list, eval_prec, color='b', label='Set de testeo')\n",
        "plt.title('Gráfico de ajuste del árbol de decision', fontsize = 15)\n",
        "plt.legend()\n",
        "plt.ylabel('Precisión')\n",
        "plt.xlabel('Profundidad')\n",
        "plt.show()"
      ]
    },
    {
      "cell_type": "markdown",
      "metadata": {
        "id": "rmUnt_bYEUZX"
      },
      "source": [
        "## Modelo Regresión Logística"
      ]
    },
    {
      "cell_type": "code",
      "execution_count": null,
      "metadata": {
        "id": "rhsPMA8UTrGH"
      },
      "outputs": [],
      "source": [
        "log_clf = LogisticRegression()"
      ]
    },
    {
      "cell_type": "code",
      "execution_count": null,
      "metadata": {
        "colab": {
          "base_uri": "https://localhost:8080/"
        },
        "id": "-03BXVHbT3iB",
        "outputId": "6e8680db-fa91-4c8c-dc03-39d80fab6148"
      },
      "outputs": [
        {
          "data": {
            "text/plain": [
              "LogisticRegression()"
            ]
          },
          "execution_count": 32,
          "metadata": {},
          "output_type": "execute_result"
        }
      ],
      "source": [
        "log_clf.fit(x_train, y_train)"
      ]
    },
    {
      "cell_type": "code",
      "execution_count": null,
      "metadata": {
        "id": "vXq-omCET8qW"
      },
      "outputs": [],
      "source": [
        "y_pred = log_clf.predict(x_test)"
      ]
    },
    {
      "cell_type": "code",
      "execution_count": null,
      "metadata": {
        "colab": {
          "base_uri": "https://localhost:8080/"
        },
        "id": "_oIRuOcMUCQZ",
        "outputId": "f74c50ff-95f5-4e4a-d3f0-d20e88fff1fd"
      },
      "outputs": [
        {
          "name": "stdout",
          "output_type": "stream",
          "text": [
            "Accuracy on training set: 0.590\n",
            "Accuracy on test set: 0.589\n"
          ]
        }
      ],
      "source": [
        "print(\"Accuracy on training set: {:.3f}\".format(log_clf.score(x_train, y_train)))\n",
        "print(\"Accuracy on test set: {:.3f}\".format(log_clf.score(x_test, y_test)))"
      ]
    },
    {
      "cell_type": "code",
      "execution_count": null,
      "metadata": {
        "colab": {
          "base_uri": "https://localhost:8080/"
        },
        "id": "P4bWFXELUPPZ",
        "outputId": "878071bf-f163-44cf-9db7-66ef1de4a648"
      },
      "outputs": [
        {
          "name": "stdout",
          "output_type": "stream",
          "text": [
            "0.5893048780487805\n",
            "[0.26588942 0.78552394]\n",
            "              precision    recall  f1-score   support\n",
            "\n",
            "           0       0.43      0.27      0.33     30964\n",
            "           1       0.64      0.79      0.70     51036\n",
            "\n",
            "    accuracy                           0.59     82000\n",
            "   macro avg       0.53      0.53      0.52     82000\n",
            "weighted avg       0.56      0.59      0.56     82000\n",
            "\n"
          ]
        }
      ],
      "source": [
        "print(accuracy_score(y_test, y_pred))\n",
        "print(recall_score(y_test, y_pred, average= None))\n",
        "print(classification_report(y_test, y_pred))"
      ]
    },
    {
      "cell_type": "code",
      "execution_count": null,
      "metadata": {
        "id": "La3l1F9gcan_"
      },
      "outputs": [],
      "source": [
        "from sklearn.feature_selection import f_regression "
      ]
    },
    {
      "cell_type": "code",
      "execution_count": null,
      "metadata": {
        "colab": {
          "base_uri": "https://localhost:8080/",
          "height": 833
        },
        "id": "RBQNn1ayciCw",
        "outputId": "0e816879-24cc-4fd0-c721-c6a14c034e6b"
      },
      "outputs": [
        {
          "data": {
            "text/html": [
              "\n",
              "  <div id=\"df-6873ccff-24d4-42f1-ae73-624f680c915c\">\n",
              "    <div class=\"colab-df-container\">\n",
              "      <div>\n",
              "<style scoped>\n",
              "    .dataframe tbody tr th:only-of-type {\n",
              "        vertical-align: middle;\n",
              "    }\n",
              "\n",
              "    .dataframe tbody tr th {\n",
              "        vertical-align: top;\n",
              "    }\n",
              "\n",
              "    .dataframe thead th {\n",
              "        text-align: right;\n",
              "    }\n",
              "</style>\n",
              "<table border=\"1\" class=\"dataframe\">\n",
              "  <thead>\n",
              "    <tr style=\"text-align: right;\">\n",
              "      <th></th>\n",
              "      <th>Feature</th>\n",
              "      <th>f_statistic</th>\n",
              "      <th>p_values</th>\n",
              "    </tr>\n",
              "  </thead>\n",
              "  <tbody>\n",
              "    <tr>\n",
              "      <th>0</th>\n",
              "      <td>dep_anesthesia</td>\n",
              "      <td>2.556803e+04</td>\n",
              "      <td>0.000000e+00</td>\n",
              "    </tr>\n",
              "    <tr>\n",
              "      <th>1</th>\n",
              "      <td>dep_radiotherapy</td>\n",
              "      <td>1.452948e+01</td>\n",
              "      <td>1.380038e-04</td>\n",
              "    </tr>\n",
              "    <tr>\n",
              "      <th>2</th>\n",
              "      <td>dep_surgery</td>\n",
              "      <td>2.557846e+03</td>\n",
              "      <td>0.000000e+00</td>\n",
              "    </tr>\n",
              "    <tr>\n",
              "      <th>3</th>\n",
              "      <td>age_encoded</td>\n",
              "      <td>2.282822e+04</td>\n",
              "      <td>0.000000e+00</td>\n",
              "    </tr>\n",
              "    <tr>\n",
              "      <th>4</th>\n",
              "      <td>gen_male</td>\n",
              "      <td>1.835285e+04</td>\n",
              "      <td>0.000000e+00</td>\n",
              "    </tr>\n",
              "    <tr>\n",
              "      <th>5</th>\n",
              "      <td>gen_female</td>\n",
              "      <td>1.441990e+04</td>\n",
              "      <td>0.000000e+00</td>\n",
              "    </tr>\n",
              "    <tr>\n",
              "      <th>6</th>\n",
              "      <td>gen_other</td>\n",
              "      <td>2.153401e+03</td>\n",
              "      <td>0.000000e+00</td>\n",
              "    </tr>\n",
              "    <tr>\n",
              "      <th>7</th>\n",
              "      <td>type_Emergency</td>\n",
              "      <td>6.376949e+01</td>\n",
              "      <td>1.402211e-15</td>\n",
              "    </tr>\n",
              "    <tr>\n",
              "      <th>8</th>\n",
              "      <td>type_Trauma</td>\n",
              "      <td>9.536239e+01</td>\n",
              "      <td>1.594370e-22</td>\n",
              "    </tr>\n",
              "    <tr>\n",
              "      <th>9</th>\n",
              "      <td>type_Urgent</td>\n",
              "      <td>1.467234e+01</td>\n",
              "      <td>1.279286e-04</td>\n",
              "    </tr>\n",
              "    <tr>\n",
              "      <th>10</th>\n",
              "      <td>sev_Extreme</td>\n",
              "      <td>9.085655e+00</td>\n",
              "      <td>2.576379e-03</td>\n",
              "    </tr>\n",
              "    <tr>\n",
              "      <th>11</th>\n",
              "      <td>sev_Minor</td>\n",
              "      <td>5.833508e+02</td>\n",
              "      <td>8.620809e-129</td>\n",
              "    </tr>\n",
              "    <tr>\n",
              "      <th>12</th>\n",
              "      <td>sev_Moderate</td>\n",
              "      <td>3.660426e+02</td>\n",
              "      <td>1.477447e-81</td>\n",
              "    </tr>\n",
              "    <tr>\n",
              "      <th>13</th>\n",
              "      <td>hcon_Asthama</td>\n",
              "      <td>1.113391e+01</td>\n",
              "      <td>8.477103e-04</td>\n",
              "    </tr>\n",
              "    <tr>\n",
              "      <th>14</th>\n",
              "      <td>hcon_Diabetes</td>\n",
              "      <td>6.001379e+00</td>\n",
              "      <td>1.429512e-02</td>\n",
              "    </tr>\n",
              "    <tr>\n",
              "      <th>15</th>\n",
              "      <td>hcon_Heart_disease</td>\n",
              "      <td>7.319668e-02</td>\n",
              "      <td>7.867382e-01</td>\n",
              "    </tr>\n",
              "    <tr>\n",
              "      <th>16</th>\n",
              "      <td>hcon_High_Blood_Pressure</td>\n",
              "      <td>1.592691e+01</td>\n",
              "      <td>6.584739e-05</td>\n",
              "    </tr>\n",
              "    <tr>\n",
              "      <th>17</th>\n",
              "      <td>hcon_None</td>\n",
              "      <td>2.500201e+01</td>\n",
              "      <td>5.729415e-07</td>\n",
              "    </tr>\n",
              "    <tr>\n",
              "      <th>18</th>\n",
              "      <td>hcon_Other</td>\n",
              "      <td>2.424673e+00</td>\n",
              "      <td>1.194389e-01</td>\n",
              "    </tr>\n",
              "    <tr>\n",
              "      <th>19</th>\n",
              "      <td>ins_no</td>\n",
              "      <td>4.632668e-01</td>\n",
              "      <td>4.961016e-01</td>\n",
              "    </tr>\n",
              "    <tr>\n",
              "      <th>20</th>\n",
              "      <td>ins_yes</td>\n",
              "      <td>4.632668e-01</td>\n",
              "      <td>4.961016e-01</td>\n",
              "    </tr>\n",
              "    <tr>\n",
              "      <th>21</th>\n",
              "      <td>Available Extra Rooms in Hospital</td>\n",
              "      <td>1.194326e+03</td>\n",
              "      <td>2.489768e-261</td>\n",
              "    </tr>\n",
              "    <tr>\n",
              "      <th>22</th>\n",
              "      <td>staff_available</td>\n",
              "      <td>3.407273e+00</td>\n",
              "      <td>6.491036e-02</td>\n",
              "    </tr>\n",
              "    <tr>\n",
              "      <th>23</th>\n",
              "      <td>Admission_Deposit</td>\n",
              "      <td>1.136982e+02</td>\n",
              "      <td>1.529551e-26</td>\n",
              "    </tr>\n",
              "    <tr>\n",
              "      <th>24</th>\n",
              "      <td>EHP</td>\n",
              "      <td>3.550898e+18</td>\n",
              "      <td>0.000000e+00</td>\n",
              "    </tr>\n",
              "  </tbody>\n",
              "</table>\n",
              "</div>\n",
              "      <button class=\"colab-df-convert\" onclick=\"convertToInteractive('df-6873ccff-24d4-42f1-ae73-624f680c915c')\"\n",
              "              title=\"Convert this dataframe to an interactive table.\"\n",
              "              style=\"display:none;\">\n",
              "        \n",
              "  <svg xmlns=\"http://www.w3.org/2000/svg\" height=\"24px\"viewBox=\"0 0 24 24\"\n",
              "       width=\"24px\">\n",
              "    <path d=\"M0 0h24v24H0V0z\" fill=\"none\"/>\n",
              "    <path d=\"M18.56 5.44l.94 2.06.94-2.06 2.06-.94-2.06-.94-.94-2.06-.94 2.06-2.06.94zm-11 1L8.5 8.5l.94-2.06 2.06-.94-2.06-.94L8.5 2.5l-.94 2.06-2.06.94zm10 10l.94 2.06.94-2.06 2.06-.94-2.06-.94-.94-2.06-.94 2.06-2.06.94z\"/><path d=\"M17.41 7.96l-1.37-1.37c-.4-.4-.92-.59-1.43-.59-.52 0-1.04.2-1.43.59L10.3 9.45l-7.72 7.72c-.78.78-.78 2.05 0 2.83L4 21.41c.39.39.9.59 1.41.59.51 0 1.02-.2 1.41-.59l7.78-7.78 2.81-2.81c.8-.78.8-2.07 0-2.86zM5.41 20L4 18.59l7.72-7.72 1.47 1.35L5.41 20z\"/>\n",
              "  </svg>\n",
              "      </button>\n",
              "      \n",
              "  <style>\n",
              "    .colab-df-container {\n",
              "      display:flex;\n",
              "      flex-wrap:wrap;\n",
              "      gap: 12px;\n",
              "    }\n",
              "\n",
              "    .colab-df-convert {\n",
              "      background-color: #E8F0FE;\n",
              "      border: none;\n",
              "      border-radius: 50%;\n",
              "      cursor: pointer;\n",
              "      display: none;\n",
              "      fill: #1967D2;\n",
              "      height: 32px;\n",
              "      padding: 0 0 0 0;\n",
              "      width: 32px;\n",
              "    }\n",
              "\n",
              "    .colab-df-convert:hover {\n",
              "      background-color: #E2EBFA;\n",
              "      box-shadow: 0px 1px 2px rgba(60, 64, 67, 0.3), 0px 1px 3px 1px rgba(60, 64, 67, 0.15);\n",
              "      fill: #174EA6;\n",
              "    }\n",
              "\n",
              "    [theme=dark] .colab-df-convert {\n",
              "      background-color: #3B4455;\n",
              "      fill: #D2E3FC;\n",
              "    }\n",
              "\n",
              "    [theme=dark] .colab-df-convert:hover {\n",
              "      background-color: #434B5C;\n",
              "      box-shadow: 0px 1px 3px 1px rgba(0, 0, 0, 0.15);\n",
              "      filter: drop-shadow(0px 1px 2px rgba(0, 0, 0, 0.3));\n",
              "      fill: #FFFFFF;\n",
              "    }\n",
              "  </style>\n",
              "\n",
              "      <script>\n",
              "        const buttonEl =\n",
              "          document.querySelector('#df-6873ccff-24d4-42f1-ae73-624f680c915c button.colab-df-convert');\n",
              "        buttonEl.style.display =\n",
              "          google.colab.kernel.accessAllowed ? 'block' : 'none';\n",
              "\n",
              "        async function convertToInteractive(key) {\n",
              "          const element = document.querySelector('#df-6873ccff-24d4-42f1-ae73-624f680c915c');\n",
              "          const dataTable =\n",
              "            await google.colab.kernel.invokeFunction('convertToInteractive',\n",
              "                                                     [key], {});\n",
              "          if (!dataTable) return;\n",
              "\n",
              "          const docLinkHtml = 'Like what you see? Visit the ' +\n",
              "            '<a target=\"_blank\" href=https://colab.research.google.com/notebooks/data_table.ipynb>data table notebook</a>'\n",
              "            + ' to learn more about interactive tables.';\n",
              "          element.innerHTML = '';\n",
              "          dataTable['output_type'] = 'display_data';\n",
              "          await google.colab.output.renderOutput(dataTable, element);\n",
              "          const docLink = document.createElement('div');\n",
              "          docLink.innerHTML = docLinkHtml;\n",
              "          element.appendChild(docLink);\n",
              "        }\n",
              "      </script>\n",
              "    </div>\n",
              "  </div>\n",
              "  "
            ],
            "text/plain": [
              "                              Feature   f_statistic       p_values\n",
              "0                      dep_anesthesia  2.556803e+04   0.000000e+00\n",
              "1                    dep_radiotherapy  1.452948e+01   1.380038e-04\n",
              "2                         dep_surgery  2.557846e+03   0.000000e+00\n",
              "3                         age_encoded  2.282822e+04   0.000000e+00\n",
              "4                            gen_male  1.835285e+04   0.000000e+00\n",
              "5                          gen_female  1.441990e+04   0.000000e+00\n",
              "6                           gen_other  2.153401e+03   0.000000e+00\n",
              "7                      type_Emergency  6.376949e+01   1.402211e-15\n",
              "8                         type_Trauma  9.536239e+01   1.594370e-22\n",
              "9                         type_Urgent  1.467234e+01   1.279286e-04\n",
              "10                        sev_Extreme  9.085655e+00   2.576379e-03\n",
              "11                          sev_Minor  5.833508e+02  8.620809e-129\n",
              "12                       sev_Moderate  3.660426e+02   1.477447e-81\n",
              "13                       hcon_Asthama  1.113391e+01   8.477103e-04\n",
              "14                      hcon_Diabetes  6.001379e+00   1.429512e-02\n",
              "15                 hcon_Heart_disease  7.319668e-02   7.867382e-01\n",
              "16           hcon_High_Blood_Pressure  1.592691e+01   6.584739e-05\n",
              "17                          hcon_None  2.500201e+01   5.729415e-07\n",
              "18                         hcon_Other  2.424673e+00   1.194389e-01\n",
              "19                             ins_no  4.632668e-01   4.961016e-01\n",
              "20                            ins_yes  4.632668e-01   4.961016e-01\n",
              "21  Available Extra Rooms in Hospital  1.194326e+03  2.489768e-261\n",
              "22                    staff_available  3.407273e+00   6.491036e-02\n",
              "23                  Admission_Deposit  1.136982e+02   1.529551e-26\n",
              "24                                EHP  3.550898e+18   0.000000e+00"
            ]
          },
          "execution_count": 37,
          "metadata": {},
          "output_type": "execute_result"
        }
      ],
      "source": [
        "x = df_x2[df_x2.columns[1:].tolist()]\n",
        "f_stats_values = f_regression(x,y)[0]\n",
        "p_values = f_regression(x,y)[1] #para obter somente os p_values\n",
        "\n",
        "f_regression_df = pd.DataFrame({'Feature':df_x2.columns[1:].tolist(),\n",
        "                                'f_statistic' : f_stats_values,\n",
        "                                'p_values':p_values\n",
        "                               })\n",
        "\n",
        "f_regression_df"
      ]
    },
    {
      "cell_type": "code",
      "execution_count": null,
      "metadata": {
        "id": "y1uSCKjfEckY"
      },
      "outputs": [],
      "source": []
    },
    {
      "cell_type": "markdown",
      "metadata": {
        "id": "J5S1Yi8xEeyH"
      },
      "source": [
        "## Modelo XGBoost"
      ]
    },
    {
      "cell_type": "code",
      "execution_count": null,
      "metadata": {
        "id": "VRUH75Inf4jc"
      },
      "outputs": [],
      "source": [
        "#from xgboost import XGBClassifier"
      ]
    },
    {
      "cell_type": "code",
      "execution_count": 79,
      "metadata": {
        "colab": {
          "base_uri": "https://localhost:8080/"
        },
        "id": "Io1vO63rf3jq",
        "outputId": "2a015a98-d040-48bf-9002-91b61f01c8fc"
      },
      "outputs": [
        {
          "data": {
            "text/plain": [
              "XGBClassifier()"
            ]
          },
          "execution_count": 79,
          "metadata": {},
          "output_type": "execute_result"
        }
      ],
      "source": [
        "model = XGBClassifier()\n",
        "model.fit(x_train, y_train)"
      ]
    },
    {
      "cell_type": "code",
      "execution_count": 80,
      "metadata": {
        "id": "AG0EhQOjgMg8"
      },
      "outputs": [],
      "source": [
        "y_pred = model.predict(x_test)"
      ]
    },
    {
      "cell_type": "code",
      "execution_count": 81,
      "metadata": {
        "colab": {
          "base_uri": "https://localhost:8080/"
        },
        "id": "w_DauFKTgUNC",
        "outputId": "535bb073-8765-4204-84b8-2644cd5c948b"
      },
      "outputs": [
        {
          "name": "stdout",
          "output_type": "stream",
          "text": [
            "Accuracy on training set: 0.712\n",
            "Accuracy on test set: 0.710\n"
          ]
        }
      ],
      "source": [
        "print(\"Accuracy on training set: {:.3f}\".format(model.score(x_train, y_train)))\n",
        "print(\"Accuracy on test set: {:.3f}\".format(model.score(x_test, y_test)))"
      ]
    },
    {
      "cell_type": "code",
      "execution_count": 82,
      "metadata": {
        "colab": {
          "base_uri": "https://localhost:8080/"
        },
        "id": "A6187Fasgq_M",
        "outputId": "8b40a414-21b0-4ced-a531-6403c9f8a3dd"
      },
      "outputs": [
        {
          "name": "stdout",
          "output_type": "stream",
          "text": [
            "0.7096707317073171\n",
            "[0.41576034 0.88904599]\n",
            "              precision    recall  f1-score   support\n",
            "\n",
            "           0       0.70      0.42      0.52     31078\n",
            "           1       0.71      0.89      0.79     50922\n",
            "\n",
            "    accuracy                           0.71     82000\n",
            "   macro avg       0.70      0.65      0.66     82000\n",
            "weighted avg       0.71      0.71      0.69     82000\n",
            "\n"
          ]
        }
      ],
      "source": [
        "print(accuracy_score(y_test, y_pred))\n",
        "print(recall_score(y_test, y_pred, average= None))\n",
        "print(classification_report(y_test, y_pred))"
      ]
    },
    {
      "cell_type": "code",
      "execution_count": 83,
      "metadata": {
        "id": "-1HAF7-GVqpH"
      },
      "outputs": [],
      "source": [
        "y_pred_tran = y_pred"
      ]
    },
    {
      "cell_type": "code",
      "execution_count": 85,
      "metadata": {
        "colab": {
          "base_uri": "https://localhost:8080/"
        },
        "id": "sapfmnyYVu4Z",
        "outputId": "5afc6466-b378-4767-b092-da795d7d57e9"
      },
      "outputs": [
        {
          "data": {
            "text/plain": [
              "array([1, 1, 1, ..., 1, 1, 1])"
            ]
          },
          "execution_count": 85,
          "metadata": {},
          "output_type": "execute_result"
        }
      ],
      "source": [
        "y_pred_tran"
      ]
    },
    {
      "cell_type": "markdown",
      "metadata": {
        "id": "YT9CXruHZAyX"
      },
      "source": [
        "## Ajusto dataset de test con los cambios"
      ]
    },
    {
      "cell_type": "code",
      "execution_count": 86,
      "metadata": {
        "id": "PkhdohHDZHjU"
      },
      "outputs": [],
      "source": [
        "df_hos_t = pd.read_csv(\"./datasets/hospitalizaciones_test.csv\")"
      ]
    },
    {
      "cell_type": "code",
      "execution_count": 88,
      "metadata": {
        "colab": {
          "base_uri": "https://localhost:8080/"
        },
        "id": "i0Yvk8-ZZRQP",
        "outputId": "ad5d8596-5847-4561-9e07-42023fa99995"
      },
      "outputs": [
        {
          "name": "stdout",
          "output_type": "stream",
          "text": [
            "[array(['0-10', '11-20', '21-30', '31-40', '41-50', '51-60', '61-70',\n",
            "       '71-80', '81-90', '91-100'], dtype=object)]\n"
          ]
        }
      ],
      "source": [
        "enc = OrdinalEncoder()\n",
        "valores = df_hos_t.Age.values.reshape(-1,1)\n",
        "enc.fit(valores)\n",
        "valores_endcoded = enc.transform(valores)\n",
        "print( enc.categories_ )"
      ]
    },
    {
      "cell_type": "code",
      "execution_count": 89,
      "metadata": {
        "id": "tLqoWqJ7am5z"
      },
      "outputs": [],
      "source": [
        "df_hos_t['age_encoded'] = valores_endcoded[:,0]"
      ]
    },
    {
      "cell_type": "code",
      "execution_count": 92,
      "metadata": {
        "colab": {
          "base_uri": "https://localhost:8080/"
        },
        "id": "6Pansob1arf4",
        "outputId": "36b94699-a4fb-409a-baee-c169cda20074"
      },
      "outputs": [
        {
          "name": "stdout",
          "output_type": "stream",
          "text": [
            "[array(['TB & Chest disease', 'anesthesia', 'gynecology', 'radiotherapy',\n",
            "       'surgery'], dtype=object)]\n"
          ]
        }
      ],
      "source": [
        "enc = OneHotEncoder(sparse=False)\n",
        "valores = df_hos_t.Department.values.reshape(-1,1)\n",
        "enc.fit(valores)\n",
        "valores_endcoded = enc.transform(valores)\n",
        "print( enc.categories_ )\n",
        "df_hos_t['dep_TB&Chest'] = valores_endcoded[:,0]\n",
        "df_hos_t['dep_anesthesia'] = valores_endcoded[:,1]\n",
        "df_hos_t['dep_gynecology'] = valores_endcoded[:,2]\n",
        "df_hos_t['dep_radiotherapy'] = valores_endcoded[:,3]\n",
        "df_hos_t['dep_surgery'] = valores_endcoded[:,4]"
      ]
    },
    {
      "cell_type": "code",
      "execution_count": 93,
      "metadata": {
        "colab": {
          "base_uri": "https://localhost:8080/"
        },
        "id": "eNB16CPpbH_f",
        "outputId": "67b8717d-c6cb-4e89-a181-59a03b34bc6a"
      },
      "outputs": [
        {
          "name": "stdout",
          "output_type": "stream",
          "text": [
            "[array(['Female', 'Male', 'Other'], dtype=object)]\n"
          ]
        }
      ],
      "source": [
        "enc = OneHotEncoder(sparse=False)\n",
        "valores = df_hos_t.gender.values.reshape(-1,1)\n",
        "enc.fit(valores)\n",
        "valores_endcoded = enc.transform(valores)\n",
        "print( enc.categories_ )\n",
        "df_hos_t['gen_male'] = valores_endcoded[:,0]\n",
        "df_hos_t['gen_female'] = valores_endcoded[:,1]\n",
        "df_hos_t['gen_other'] = valores_endcoded[:,2]"
      ]
    },
    {
      "cell_type": "code",
      "execution_count": 94,
      "metadata": {
        "colab": {
          "base_uri": "https://localhost:8080/"
        },
        "id": "74tdc6hTbYqT",
        "outputId": "29608716-86a6-4de8-af75-a22af75fbb67"
      },
      "outputs": [
        {
          "name": "stdout",
          "output_type": "stream",
          "text": [
            "[array(['Emergency', 'Trauma', 'Urgent'], dtype=object)]\n"
          ]
        }
      ],
      "source": [
        "enc = OneHotEncoder(sparse=False)\n",
        "valores = df_hos_t['Type of Admission'].values.reshape(-1,1)\n",
        "enc.fit(valores)\n",
        "valores_endcoded = enc.transform(valores)\n",
        "print( enc.categories_ )\n",
        "df_hos_t['type_Emergency'] = valores_endcoded[:,0]\n",
        "df_hos_t['type_Trauma'] = valores_endcoded[:,1]\n",
        "df_hos_t['type_Urgent'] = valores_endcoded[:,2]"
      ]
    },
    {
      "cell_type": "code",
      "execution_count": 95,
      "metadata": {
        "colab": {
          "base_uri": "https://localhost:8080/"
        },
        "id": "oksgTP1ebm5Q",
        "outputId": "54ecc61a-b40e-4e04-cdc0-f487c14a7353"
      },
      "outputs": [
        {
          "name": "stdout",
          "output_type": "stream",
          "text": [
            "[array(['Extreme', 'Minor', 'Moderate'], dtype=object)]\n"
          ]
        }
      ],
      "source": [
        "enc = OneHotEncoder(sparse=False)\n",
        "valores = df_hos_t['Severity of Illness'].values.reshape(-1,1)\n",
        "enc.fit(valores)\n",
        "valores_endcoded = enc.transform(valores)\n",
        "print( enc.categories_ )\n",
        "df_hos_t['sev_Extreme'] = valores_endcoded[:,0]\n",
        "df_hos_t['sev_Minor'] = valores_endcoded[:,1]\n",
        "df_hos_t['sev_Moderate'] = valores_endcoded[:,2]"
      ]
    },
    {
      "cell_type": "code",
      "execution_count": 96,
      "metadata": {
        "colab": {
          "base_uri": "https://localhost:8080/"
        },
        "id": "ISq2Em9CcLKF",
        "outputId": "01507a83-aaab-4f07-92ea-9fd11b775736"
      },
      "outputs": [
        {
          "name": "stdout",
          "output_type": "stream",
          "text": [
            "[array(['Asthama', 'Diabetes', 'Heart disease', 'High Blood Pressure',\n",
            "       'None', 'Other'], dtype=object)]\n"
          ]
        }
      ],
      "source": [
        "enc = OneHotEncoder(sparse=False)\n",
        "valores = df_hos_t.health_conditions.values.reshape(-1,1)\n",
        "enc.fit(valores)\n",
        "valores_endcoded = enc.transform(valores)\n",
        "print( enc.categories_ )\n",
        "df_hos_t['hcon_Asthama'] = valores_endcoded[:,0]\n",
        "df_hos_t['hcon_Diabetes'] = valores_endcoded[:,1]\n",
        "df_hos_t['hcon_Heart_disease'] = valores_endcoded[:,2]\n",
        "df_hos_t['hcon_High_Blood_Pressure'] = valores_endcoded[:,3]\n",
        "df_hos_t['hcon_None'] = valores_endcoded[:,4]\n",
        "df_hos_t['hcon_Other'] = valores_endcoded[:,5]"
      ]
    },
    {
      "cell_type": "code",
      "execution_count": 97,
      "metadata": {
        "colab": {
          "base_uri": "https://localhost:8080/"
        },
        "id": "xSB_1mGccPdf",
        "outputId": "e4c9d32a-6662-42ce-d418-f83375e9d030"
      },
      "outputs": [
        {
          "name": "stdout",
          "output_type": "stream",
          "text": [
            "[array(['No', 'Yes'], dtype=object)]\n"
          ]
        }
      ],
      "source": [
        "enc = OneHotEncoder(sparse=False)\n",
        "valores = df_hos_t.Insurance.values.reshape(-1,1)\n",
        "enc.fit(valores)\n",
        "valores_endcoded = enc.transform(valores)\n",
        "print( enc.categories_ )\n",
        "df_hos_t['ins_no'] = valores_endcoded[:,0]\n",
        "df_hos_t['ins_yes'] = valores_endcoded[:,1]"
      ]
    },
    {
      "cell_type": "code",
      "execution_count": 98,
      "metadata": {
        "id": "q_bjjFdAcpBE"
      },
      "outputs": [],
      "source": [
        "df_x2_t = df_hos_t[[\n",
        "    'dep_TB&Chest', 'dep_anesthesia', 'dep_radiotherapy', 'dep_surgery',\n",
        "    'age_encoded',\n",
        "    'gen_male', 'gen_female', 'gen_other',\n",
        "    'type_Emergency', 'type_Trauma', 'type_Urgent',\n",
        "    'sev_Extreme', 'sev_Minor', 'sev_Moderate',\n",
        "    'hcon_Asthama', 'hcon_Diabetes', 'hcon_Heart_disease', 'hcon_High_Blood_Pressure', 'hcon_None', 'hcon_Other',\n",
        "    'ins_no', 'ins_yes',\n",
        "    'Available Extra Rooms in Hospital','staff_available',\n",
        "    'Admission_Deposit',\n",
        "    ]]"
      ]
    },
    {
      "cell_type": "code",
      "execution_count": 102,
      "metadata": {
        "id": "MGYbmJGKc1N4"
      },
      "outputs": [],
      "source": [
        "y_pred_test = model.predict(df_x2_t.values)"
      ]
    },
    {
      "cell_type": "code",
      "execution_count": 103,
      "metadata": {
        "id": "HFv2ig3MjCV9"
      },
      "outputs": [],
      "source": [
        "df_pred = pd.DataFrame()\n",
        "df_pred['pred'] = y_pred_test"
      ]
    },
    {
      "cell_type": "code",
      "execution_count": 104,
      "metadata": {
        "id": "cTbe3kzCjNoe"
      },
      "outputs": [],
      "source": [
        "df_pred.to_csv('./odvallejos.csv', index=False)"
      ]
    },
    {
      "cell_type": "code",
      "execution_count": 100,
      "metadata": {
        "colab": {
          "base_uri": "https://localhost:8080/"
        },
        "id": "jol7nUWpg_oY",
        "outputId": "db235f75-038d-4c75-d727-ab8aaafe1de1"
      },
      "outputs": [
        {
          "data": {
            "text/plain": [
              "Index(['dep_TB&Chest', 'dep_anesthesia', 'dep_radiotherapy', 'dep_surgery',\n",
              "       'age_encoded', 'gen_male', 'gen_female', 'gen_other', 'type_Emergency',\n",
              "       'type_Trauma', 'type_Urgent', 'sev_Extreme', 'sev_Minor',\n",
              "       'sev_Moderate', 'hcon_Asthama', 'hcon_Diabetes', 'hcon_Heart_disease',\n",
              "       'hcon_High_Blood_Pressure', 'hcon_None', 'hcon_Other', 'ins_no',\n",
              "       'ins_yes', 'Available Extra Rooms in Hospital', 'staff_available',\n",
              "       'Admission_Deposit'],\n",
              "      dtype='object')"
            ]
          },
          "execution_count": 100,
          "metadata": {},
          "output_type": "execute_result"
        }
      ],
      "source": [
        "df_x2_t.columns"
      ]
    },
    {
      "cell_type": "code",
      "execution_count": 101,
      "metadata": {
        "colab": {
          "base_uri": "https://localhost:8080/"
        },
        "id": "B8Te0VFlhDGy",
        "outputId": "366c6a84-c430-4162-8ad4-074a7af32b9c"
      },
      "outputs": [
        {
          "data": {
            "text/plain": [
              "Index(['dep_TB&Chest', 'dep_anesthesia', 'dep_radiotherapy', 'dep_surgery',\n",
              "       'age_encoded', 'gen_male', 'gen_female', 'gen_other', 'type_Emergency',\n",
              "       'type_Trauma', 'type_Urgent', 'sev_Extreme', 'sev_Minor',\n",
              "       'sev_Moderate', 'hcon_Asthama', 'hcon_Diabetes', 'hcon_Heart_disease',\n",
              "       'hcon_High_Blood_Pressure', 'hcon_None', 'hcon_Other', 'ins_no',\n",
              "       'ins_yes', 'Available Extra Rooms in Hospital', 'staff_available',\n",
              "       'Admission_Deposit', 'EHP'],\n",
              "      dtype='object')"
            ]
          },
          "execution_count": 101,
          "metadata": {},
          "output_type": "execute_result"
        }
      ],
      "source": [
        "df_x2.columns"
      ]
    }
  ],
  "metadata": {
    "colab": {
      "provenance": []
    },
    "kernelspec": {
      "display_name": "Python 3",
      "name": "python3"
    },
    "language_info": {
      "name": "python"
    }
  },
  "nbformat": 4,
  "nbformat_minor": 0
}
